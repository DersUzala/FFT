{
 "cells": [
  {
   "cell_type": "code",
   "execution_count": 18,
   "metadata": {},
   "outputs": [],
   "source": [
    "import pandas as pd\n",
    "import seaborn as sns\n",
    "import numpy as np\n",
    "import matplotlib.pyplot as plt\n",
    "%matplotlib inline\n",
    "\n",
    "import os\n",
    "import glob\n",
    "\n",
    "from scipy.signal import find_peaks\n",
    "\n",
    "\n",
    "from IPython import display"
   ]
  },
  {
   "cell_type": "markdown",
   "metadata": {},
   "source": [
    "**Summary**\n",
    "\n",
    "This notebook generate matrix with features for matricies with Fourier spectrum for electrode and optical mapping. \n",
    "\n",
    "Features description:\n",
    "\n",
    "-  *freq i* - frequency of i$^{th}$ heightest peak\n",
    "-  *height i* - height of i$^{th}$ heightest peak\n",
    "-  *width i* - width of i$^{th}$ heightest peak\n",
    "-  *prominence i* - prominence of i$^{th}$ heightest peak\n",
    "-  *#peaks_th* - number of peaks for given (th) threshhold\n",
    "-  *low_freq_noise* - presence of low-frequency noise (frequency of one of the n highest peaks in the interval from 0 to lf_thHz)\n"
   ]
  },
  {
   "cell_type": "markdown",
   "metadata": {},
   "source": [
    "### Upload data"
   ]
  },
  {
   "cell_type": "code",
   "execution_count": 382,
   "metadata": {},
   "outputs": [],
   "source": [
    "path = r'C:\\Users\\Public\\Documents\\HRS'"
   ]
  },
  {
   "cell_type": "code",
   "execution_count": 383,
   "metadata": {},
   "outputs": [],
   "source": [
    "el_sig = pd.read_csv(path + '\\All FFT of electrode signal.csv', index_col=0)\n",
    "om_sig = pd.read_csv(path + '\\All FFT of optical signal.csv', index_col=0)"
   ]
  },
  {
   "cell_type": "markdown",
   "metadata": {},
   "source": [
    "### Feature generation"
   ]
  },
  {
   "cell_type": "code",
   "execution_count": 384,
   "metadata": {},
   "outputs": [],
   "source": [
    "\"\"\"\n",
    "Function that generates pd.DataFrame with amount of peaks for (th*100)% threshhold. \n",
    "\n",
    "Parameters: \n",
    "\n",
    "full_df: Dataframe\n",
    "Dataframe with fourier spectrum\n",
    "\n",
    "th: float, from 0 to 1\n",
    "threshhold\n",
    "\n",
    "Returns: \n",
    "\n",
    "features: DataFrame, shape=(full_df[1]/2, 1)\n",
    "number of peaks\n",
    "\"\"\"\n",
    "\n",
    "def number_of_peaks(full_df, th):\n",
    "    all_props = []\n",
    "    df = full_df[full_df.columns[::2]][:-1]\n",
    "    for col in df:\n",
    "        _, properties = find_peaks(df[col], height=0)\n",
    "        all_props.append(properties)\n",
    "    \n",
    "    num_of_peaks = []\n",
    "    \n",
    "    for i in range(len(all_props)):\n",
    "        max_height = np.max(all_props[i]['peak_heights'])\n",
    "        peaks, _ = find_peaks(df.iloc[:,i], threshold=th*max_height)\n",
    "        num = peaks.shape[0]\n",
    "        num_of_peaks.append(num)\n",
    "    num_of_peaks = pd.DataFrame(num_of_peaks, columns=['#peaks_' + str(th)])\n",
    "    return(num_of_peaks)"
   ]
  },
  {
   "cell_type": "code",
   "execution_count": 385,
   "metadata": {},
   "outputs": [
    {
     "data": {
      "text/html": [
       "<div>\n",
       "<style scoped>\n",
       "    .dataframe tbody tr th:only-of-type {\n",
       "        vertical-align: middle;\n",
       "    }\n",
       "\n",
       "    .dataframe tbody tr th {\n",
       "        vertical-align: top;\n",
       "    }\n",
       "\n",
       "    .dataframe thead th {\n",
       "        text-align: right;\n",
       "    }\n",
       "</style>\n",
       "<table border=\"1\" class=\"dataframe\">\n",
       "  <thead>\n",
       "    <tr style=\"text-align: right;\">\n",
       "      <th></th>\n",
       "      <th>#peaks_0.05</th>\n",
       "    </tr>\n",
       "  </thead>\n",
       "  <tbody>\n",
       "    <tr>\n",
       "      <th>0</th>\n",
       "      <td>5</td>\n",
       "    </tr>\n",
       "    <tr>\n",
       "      <th>1</th>\n",
       "      <td>3</td>\n",
       "    </tr>\n",
       "    <tr>\n",
       "      <th>2</th>\n",
       "      <td>7</td>\n",
       "    </tr>\n",
       "    <tr>\n",
       "      <th>3</th>\n",
       "      <td>7</td>\n",
       "    </tr>\n",
       "    <tr>\n",
       "      <th>4</th>\n",
       "      <td>3</td>\n",
       "    </tr>\n",
       "  </tbody>\n",
       "</table>\n",
       "</div>"
      ],
      "text/plain": [
       "   #peaks_0.05\n",
       "0            5\n",
       "1            3\n",
       "2            7\n",
       "3            7\n",
       "4            3"
      ]
     },
     "execution_count": 385,
     "metadata": {},
     "output_type": "execute_result"
    }
   ],
   "source": [
    "number_of_peaks(el_sig, 0.05).head()"
   ]
  },
  {
   "cell_type": "code",
   "execution_count": 386,
   "metadata": {},
   "outputs": [],
   "source": [
    "\"\"\"\n",
    "Function that generates pd.DataFrame with different properties for n highest peaks. Properties - values of frequency, \n",
    "height, width of the peak for half peak height, prominence. \n",
    "\n",
    "In more details about properties https://docs.scipy.org/doc/scipy/reference/generated/scipy.signal.find_peaks.html\n",
    "\n",
    "Parameters: \n",
    "\n",
    "full_df: Dataframe\n",
    "Dataframe with fourier spectrum\n",
    "\n",
    "n: int\n",
    "number of peaks\n",
    "\n",
    "lf_th: float\n",
    "threshold for low frequency noise (1Hz by default)\n",
    "\n",
    "Returns: \n",
    "\n",
    "features: DataFrame, shape=(full_df.shape[1]/2, n*4)\n",
    "properties of n hightest peaks\n",
    "\"\"\"\n",
    "\n",
    "def properties_of_peaks(full_df, n, lf_th=1):\n",
    "    \n",
    "    all_peaks = []\n",
    "    all_props = []\n",
    "    df = full_df[full_df.columns[::2]][:-1]\n",
    "    xf = full_df[full_df.columns[1::2]][:-1]\n",
    "    \n",
    "    for col in df:\n",
    "        peaks, properties = find_peaks(df[col], height=0, width=0, prominence=0, rel_height=0.5)\n",
    "        properties['peak_index'] = peaks\n",
    "        all_props.append(properties)\n",
    "        all_peaks.append(peaks)\n",
    "        \n",
    "    \n",
    "    index = []\n",
    "    freq = []\n",
    "    height = []\n",
    "    width = []\n",
    "    prominence = []\n",
    "    low_noise = []\n",
    "    \n",
    "    features = pd.DataFrame()\n",
    "    \n",
    "    for i in range(len(all_props)):\n",
    "        z = np.argsort(all_props[i]['peak_heights'])\n",
    "        z = z[:-(n+1):-1]\n",
    "        idx = all_props[i]['peak_index'][z] #index of max peaks\n",
    "        \n",
    "        for j in range(n):\n",
    "            fr = xf.iloc[:,i][all_peaks[i][z][j]] #freqs of max peaks\n",
    "            freq.append(fr)\n",
    "            \n",
    "        h = all_props[i]['peak_heights'][z] #heights of max peaks\n",
    "        height.append(h)\n",
    "        w = all_props[i]['widths'][z] #width of max peaks\n",
    "        width.append(w)\n",
    "        p = all_props[i]['prominences'][z]\n",
    "        prominence.append(p)\n",
    "\n",
    "        \n",
    "    freq = np.reshape(freq, (len(all_props), n)) \n",
    "    for i in range(freq.shape[0]):\n",
    "        cond = np.where(freq[i] < lf_th)\n",
    "#         print(cond[0])\n",
    "#         print(cond[0].size)\n",
    "        if cond[0].size == 0:\n",
    "            low_noise.append(0)\n",
    "        else:\n",
    "            low_noise.append(1)\n",
    "    freq = pd.DataFrame(freq, columns=['freq ' + str(i) for i in range(n)])\n",
    "    height = pd.DataFrame(height, columns=['height ' + str(i) for i in range(n)])\n",
    "    width = pd.DataFrame(width, columns=['width ' + str(i) for i in range(n)])\n",
    "    prominence = pd.DataFrame(prominence, columns=['prominence ' + str(i) for i in range(n)])\n",
    "    low_noise = pd.DataFrame(low_noise, columns=['low_freq_noise'])\n",
    "\n",
    "    features = pd.concat([features, freq, height, width, prominence, low_noise], axis=1)\n",
    "    \n",
    "    return(features)"
   ]
  },
  {
   "cell_type": "code",
   "execution_count": 387,
   "metadata": {},
   "outputs": [
    {
     "data": {
      "text/html": [
       "<div>\n",
       "<style scoped>\n",
       "    .dataframe tbody tr th:only-of-type {\n",
       "        vertical-align: middle;\n",
       "    }\n",
       "\n",
       "    .dataframe tbody tr th {\n",
       "        vertical-align: top;\n",
       "    }\n",
       "\n",
       "    .dataframe thead th {\n",
       "        text-align: right;\n",
       "    }\n",
       "</style>\n",
       "<table border=\"1\" class=\"dataframe\">\n",
       "  <thead>\n",
       "    <tr style=\"text-align: right;\">\n",
       "      <th></th>\n",
       "      <th>freq 0</th>\n",
       "      <th>freq 1</th>\n",
       "      <th>freq 2</th>\n",
       "      <th>height 0</th>\n",
       "      <th>height 1</th>\n",
       "      <th>height 2</th>\n",
       "      <th>width 0</th>\n",
       "      <th>width 1</th>\n",
       "      <th>width 2</th>\n",
       "      <th>prominence 0</th>\n",
       "      <th>prominence 1</th>\n",
       "      <th>prominence 2</th>\n",
       "      <th>low_freq_noise</th>\n",
       "    </tr>\n",
       "  </thead>\n",
       "  <tbody>\n",
       "    <tr>\n",
       "      <th>0</th>\n",
       "      <td>8.487334</td>\n",
       "      <td>16.851663</td>\n",
       "      <td>0.615024</td>\n",
       "      <td>0.013464</td>\n",
       "      <td>0.008599</td>\n",
       "      <td>0.007835</td>\n",
       "      <td>2.107369</td>\n",
       "      <td>1.347714</td>\n",
       "      <td>1.242019</td>\n",
       "      <td>0.013246</td>\n",
       "      <td>0.008536</td>\n",
       "      <td>0.004159</td>\n",
       "      <td>1</td>\n",
       "    </tr>\n",
       "    <tr>\n",
       "      <th>1</th>\n",
       "      <td>8.487334</td>\n",
       "      <td>16.851663</td>\n",
       "      <td>0.738029</td>\n",
       "      <td>0.021348</td>\n",
       "      <td>0.015359</td>\n",
       "      <td>0.004381</td>\n",
       "      <td>2.084090</td>\n",
       "      <td>1.318957</td>\n",
       "      <td>2.294447</td>\n",
       "      <td>0.021204</td>\n",
       "      <td>0.015294</td>\n",
       "      <td>0.002769</td>\n",
       "      <td>1</td>\n",
       "    </tr>\n",
       "    <tr>\n",
       "      <th>2</th>\n",
       "      <td>8.487334</td>\n",
       "      <td>16.851663</td>\n",
       "      <td>5.043198</td>\n",
       "      <td>0.011128</td>\n",
       "      <td>0.009205</td>\n",
       "      <td>0.002923</td>\n",
       "      <td>2.137057</td>\n",
       "      <td>1.296551</td>\n",
       "      <td>1.201014</td>\n",
       "      <td>0.011093</td>\n",
       "      <td>0.009112</td>\n",
       "      <td>0.002840</td>\n",
       "      <td>0</td>\n",
       "    </tr>\n",
       "    <tr>\n",
       "      <th>3</th>\n",
       "      <td>16.851663</td>\n",
       "      <td>8.487334</td>\n",
       "      <td>0.615024</td>\n",
       "      <td>0.015052</td>\n",
       "      <td>0.014797</td>\n",
       "      <td>0.006998</td>\n",
       "      <td>1.314039</td>\n",
       "      <td>2.035020</td>\n",
       "      <td>1.874273</td>\n",
       "      <td>0.014973</td>\n",
       "      <td>0.014714</td>\n",
       "      <td>0.004862</td>\n",
       "      <td>1</td>\n",
       "    </tr>\n",
       "    <tr>\n",
       "      <th>4</th>\n",
       "      <td>8.487334</td>\n",
       "      <td>16.851663</td>\n",
       "      <td>12.669498</td>\n",
       "      <td>0.017404</td>\n",
       "      <td>0.008351</td>\n",
       "      <td>0.002373</td>\n",
       "      <td>2.034558</td>\n",
       "      <td>1.312960</td>\n",
       "      <td>1.071492</td>\n",
       "      <td>0.017341</td>\n",
       "      <td>0.008279</td>\n",
       "      <td>0.002267</td>\n",
       "      <td>0</td>\n",
       "    </tr>\n",
       "    <tr>\n",
       "      <th>5</th>\n",
       "      <td>11.940370</td>\n",
       "      <td>0.811481</td>\n",
       "      <td>0.347778</td>\n",
       "      <td>0.008116</td>\n",
       "      <td>0.003628</td>\n",
       "      <td>0.003385</td>\n",
       "      <td>1.410391</td>\n",
       "      <td>2.939132</td>\n",
       "      <td>1.163220</td>\n",
       "      <td>0.008113</td>\n",
       "      <td>0.003039</td>\n",
       "      <td>0.001848</td>\n",
       "      <td>1</td>\n",
       "    </tr>\n",
       "    <tr>\n",
       "      <th>6</th>\n",
       "      <td>11.940370</td>\n",
       "      <td>0.811481</td>\n",
       "      <td>0.231852</td>\n",
       "      <td>0.005226</td>\n",
       "      <td>0.003139</td>\n",
       "      <td>0.002060</td>\n",
       "      <td>1.404822</td>\n",
       "      <td>3.260891</td>\n",
       "      <td>0.665364</td>\n",
       "      <td>0.005203</td>\n",
       "      <td>0.002713</td>\n",
       "      <td>0.000540</td>\n",
       "      <td>1</td>\n",
       "    </tr>\n",
       "    <tr>\n",
       "      <th>7</th>\n",
       "      <td>11.940370</td>\n",
       "      <td>0.811481</td>\n",
       "      <td>0.231852</td>\n",
       "      <td>0.005191</td>\n",
       "      <td>0.004754</td>\n",
       "      <td>0.003292</td>\n",
       "      <td>1.360659</td>\n",
       "      <td>2.254402</td>\n",
       "      <td>1.301052</td>\n",
       "      <td>0.005103</td>\n",
       "      <td>0.003809</td>\n",
       "      <td>0.001732</td>\n",
       "      <td>1</td>\n",
       "    </tr>\n",
       "    <tr>\n",
       "      <th>8</th>\n",
       "      <td>4.057407</td>\n",
       "      <td>2.550370</td>\n",
       "      <td>11.824444</td>\n",
       "      <td>0.006272</td>\n",
       "      <td>0.005938</td>\n",
       "      <td>0.005570</td>\n",
       "      <td>5.163648</td>\n",
       "      <td>4.122266</td>\n",
       "      <td>2.036408</td>\n",
       "      <td>0.005882</td>\n",
       "      <td>0.004228</td>\n",
       "      <td>0.005305</td>\n",
       "      <td>0</td>\n",
       "    </tr>\n",
       "    <tr>\n",
       "      <th>9</th>\n",
       "      <td>12.250000</td>\n",
       "      <td>0.750000</td>\n",
       "      <td>1.625000</td>\n",
       "      <td>0.011154</td>\n",
       "      <td>0.007526</td>\n",
       "      <td>0.005812</td>\n",
       "      <td>1.193836</td>\n",
       "      <td>6.492907</td>\n",
       "      <td>2.306966</td>\n",
       "      <td>0.010779</td>\n",
       "      <td>0.006526</td>\n",
       "      <td>0.002967</td>\n",
       "      <td>1</td>\n",
       "    </tr>\n",
       "  </tbody>\n",
       "</table>\n",
       "</div>"
      ],
      "text/plain": [
       "      freq 0     freq 1     freq 2  height 0  height 1  height 2   width 0  \\\n",
       "0   8.487334  16.851663   0.615024  0.013464  0.008599  0.007835  2.107369   \n",
       "1   8.487334  16.851663   0.738029  0.021348  0.015359  0.004381  2.084090   \n",
       "2   8.487334  16.851663   5.043198  0.011128  0.009205  0.002923  2.137057   \n",
       "3  16.851663   8.487334   0.615024  0.015052  0.014797  0.006998  1.314039   \n",
       "4   8.487334  16.851663  12.669498  0.017404  0.008351  0.002373  2.034558   \n",
       "5  11.940370   0.811481   0.347778  0.008116  0.003628  0.003385  1.410391   \n",
       "6  11.940370   0.811481   0.231852  0.005226  0.003139  0.002060  1.404822   \n",
       "7  11.940370   0.811481   0.231852  0.005191  0.004754  0.003292  1.360659   \n",
       "8   4.057407   2.550370  11.824444  0.006272  0.005938  0.005570  5.163648   \n",
       "9  12.250000   0.750000   1.625000  0.011154  0.007526  0.005812  1.193836   \n",
       "\n",
       "    width 1   width 2  prominence 0  prominence 1  prominence 2  \\\n",
       "0  1.347714  1.242019      0.013246      0.008536      0.004159   \n",
       "1  1.318957  2.294447      0.021204      0.015294      0.002769   \n",
       "2  1.296551  1.201014      0.011093      0.009112      0.002840   \n",
       "3  2.035020  1.874273      0.014973      0.014714      0.004862   \n",
       "4  1.312960  1.071492      0.017341      0.008279      0.002267   \n",
       "5  2.939132  1.163220      0.008113      0.003039      0.001848   \n",
       "6  3.260891  0.665364      0.005203      0.002713      0.000540   \n",
       "7  2.254402  1.301052      0.005103      0.003809      0.001732   \n",
       "8  4.122266  2.036408      0.005882      0.004228      0.005305   \n",
       "9  6.492907  2.306966      0.010779      0.006526      0.002967   \n",
       "\n",
       "   low_freq_noise  \n",
       "0               1  \n",
       "1               1  \n",
       "2               0  \n",
       "3               1  \n",
       "4               0  \n",
       "5               1  \n",
       "6               1  \n",
       "7               1  \n",
       "8               0  \n",
       "9               1  "
      ]
     },
     "execution_count": 387,
     "metadata": {},
     "output_type": "execute_result"
    }
   ],
   "source": [
    "properties_of_peaks(el_sig, 3, 1).head(10)"
   ]
  },
  {
   "cell_type": "code",
   "execution_count": 396,
   "metadata": {},
   "outputs": [],
   "source": [
    "\"\"\"\n",
    "Function that generates final pd.DataFrame with all features\n",
    "\n",
    "Parameters: \n",
    "\n",
    "full_df: Dataframe\n",
    "Dataframe with fourier spectrum\n",
    "\n",
    "n: int\n",
    "number of peaks\n",
    "\n",
    "th1: float, from 0 to 1\n",
    "threshhold\n",
    "\n",
    "th2: float, from 0 to 1\n",
    "threshhold\n",
    "\n",
    "lf_th: float\n",
    "low frequency threshhold\n",
    "\n",
    "path: str\n",
    "path to save the matrix\n",
    "\n",
    "download: bool\n",
    "download or not download feature matrix\n",
    "\n",
    "Returns: \n",
    "\n",
    "features: DataFrame\n",
    "features for full_df dataframe\n",
    "\"\"\"\n",
    "\n",
    "def create_feature_df(full_df, n, th1, th2, lf_th, path, download=False):\n",
    "    \n",
    "    features = pd.DataFrame()\n",
    "    \n",
    "    properties = properties_of_peaks(full_df=full_df, n=n, lf_th=lf_th) \n",
    "    num_peak_1 = number_of_peaks(full_df=full_df, th=th1)\n",
    "    num_peak_2 = number_of_peaks(full_df=full_df, th=th2)\n",
    "    target = pd.DataFrame(el_sig[el_sig.columns[::2]].loc['target'].reset_index().drop('index',axis=1))\n",
    "    \n",
    "    features = pd.concat([features, num_peak_1, num_peak_2, properties], axis=1)\n",
    "    features = pd.concat([features, target], axis=1)\n",
    "    \n",
    "    if download == True: \n",
    "        features.to_csv(path + '\\Feature matrix.csv')\n",
    "        return(features)\n",
    "    else:\n",
    "        return(features)"
   ]
  },
  {
   "cell_type": "code",
   "execution_count": 413,
   "metadata": {},
   "outputs": [
    {
     "data": {
      "text/html": [
       "<div>\n",
       "<style scoped>\n",
       "    .dataframe tbody tr th:only-of-type {\n",
       "        vertical-align: middle;\n",
       "    }\n",
       "\n",
       "    .dataframe tbody tr th {\n",
       "        vertical-align: top;\n",
       "    }\n",
       "\n",
       "    .dataframe thead th {\n",
       "        text-align: right;\n",
       "    }\n",
       "</style>\n",
       "<table border=\"1\" class=\"dataframe\">\n",
       "  <thead>\n",
       "    <tr style=\"text-align: right;\">\n",
       "      <th></th>\n",
       "      <th>#peaks_0.05</th>\n",
       "      <th>#peaks_0.1</th>\n",
       "      <th>freq 0</th>\n",
       "      <th>freq 1</th>\n",
       "      <th>freq 2</th>\n",
       "      <th>height 0</th>\n",
       "      <th>height 1</th>\n",
       "      <th>height 2</th>\n",
       "      <th>width 0</th>\n",
       "      <th>width 1</th>\n",
       "      <th>width 2</th>\n",
       "      <th>prominence 0</th>\n",
       "      <th>prominence 1</th>\n",
       "      <th>prominence 2</th>\n",
       "      <th>low_freq_noise</th>\n",
       "      <th>target</th>\n",
       "    </tr>\n",
       "  </thead>\n",
       "  <tbody>\n",
       "    <tr>\n",
       "      <th>0</th>\n",
       "      <td>5</td>\n",
       "      <td>3</td>\n",
       "      <td>8.487334</td>\n",
       "      <td>16.851663</td>\n",
       "      <td>0.615024</td>\n",
       "      <td>0.013464</td>\n",
       "      <td>0.008599</td>\n",
       "      <td>0.007835</td>\n",
       "      <td>2.107369</td>\n",
       "      <td>1.347714</td>\n",
       "      <td>1.242019</td>\n",
       "      <td>0.013246</td>\n",
       "      <td>0.008536</td>\n",
       "      <td>0.004159</td>\n",
       "      <td>1</td>\n",
       "      <td>1.0</td>\n",
       "    </tr>\n",
       "    <tr>\n",
       "      <th>1</th>\n",
       "      <td>3</td>\n",
       "      <td>2</td>\n",
       "      <td>8.487334</td>\n",
       "      <td>16.851663</td>\n",
       "      <td>0.738029</td>\n",
       "      <td>0.021348</td>\n",
       "      <td>0.015359</td>\n",
       "      <td>0.004381</td>\n",
       "      <td>2.084090</td>\n",
       "      <td>1.318957</td>\n",
       "      <td>2.294447</td>\n",
       "      <td>0.021204</td>\n",
       "      <td>0.015294</td>\n",
       "      <td>0.002769</td>\n",
       "      <td>1</td>\n",
       "      <td>1.0</td>\n",
       "    </tr>\n",
       "    <tr>\n",
       "      <th>2</th>\n",
       "      <td>7</td>\n",
       "      <td>5</td>\n",
       "      <td>8.487334</td>\n",
       "      <td>16.851663</td>\n",
       "      <td>5.043198</td>\n",
       "      <td>0.011128</td>\n",
       "      <td>0.009205</td>\n",
       "      <td>0.002923</td>\n",
       "      <td>2.137057</td>\n",
       "      <td>1.296551</td>\n",
       "      <td>1.201014</td>\n",
       "      <td>0.011093</td>\n",
       "      <td>0.009112</td>\n",
       "      <td>0.002840</td>\n",
       "      <td>0</td>\n",
       "      <td>1.0</td>\n",
       "    </tr>\n",
       "    <tr>\n",
       "      <th>3</th>\n",
       "      <td>7</td>\n",
       "      <td>6</td>\n",
       "      <td>16.851663</td>\n",
       "      <td>8.487334</td>\n",
       "      <td>0.615024</td>\n",
       "      <td>0.015052</td>\n",
       "      <td>0.014797</td>\n",
       "      <td>0.006998</td>\n",
       "      <td>1.314039</td>\n",
       "      <td>2.035020</td>\n",
       "      <td>1.874273</td>\n",
       "      <td>0.014973</td>\n",
       "      <td>0.014714</td>\n",
       "      <td>0.004862</td>\n",
       "      <td>1</td>\n",
       "      <td>1.0</td>\n",
       "    </tr>\n",
       "    <tr>\n",
       "      <th>4</th>\n",
       "      <td>3</td>\n",
       "      <td>3</td>\n",
       "      <td>8.487334</td>\n",
       "      <td>16.851663</td>\n",
       "      <td>12.669498</td>\n",
       "      <td>0.017404</td>\n",
       "      <td>0.008351</td>\n",
       "      <td>0.002373</td>\n",
       "      <td>2.034558</td>\n",
       "      <td>1.312960</td>\n",
       "      <td>1.071492</td>\n",
       "      <td>0.017341</td>\n",
       "      <td>0.008279</td>\n",
       "      <td>0.002267</td>\n",
       "      <td>0</td>\n",
       "      <td>1.0</td>\n",
       "    </tr>\n",
       "  </tbody>\n",
       "</table>\n",
       "</div>"
      ],
      "text/plain": [
       "   #peaks_0.05  #peaks_0.1     freq 0     freq 1     freq 2  height 0  \\\n",
       "0            5           3   8.487334  16.851663   0.615024  0.013464   \n",
       "1            3           2   8.487334  16.851663   0.738029  0.021348   \n",
       "2            7           5   8.487334  16.851663   5.043198  0.011128   \n",
       "3            7           6  16.851663   8.487334   0.615024  0.015052   \n",
       "4            3           3   8.487334  16.851663  12.669498  0.017404   \n",
       "\n",
       "   height 1  height 2   width 0   width 1   width 2  prominence 0  \\\n",
       "0  0.008599  0.007835  2.107369  1.347714  1.242019      0.013246   \n",
       "1  0.015359  0.004381  2.084090  1.318957  2.294447      0.021204   \n",
       "2  0.009205  0.002923  2.137057  1.296551  1.201014      0.011093   \n",
       "3  0.014797  0.006998  1.314039  2.035020  1.874273      0.014973   \n",
       "4  0.008351  0.002373  2.034558  1.312960  1.071492      0.017341   \n",
       "\n",
       "   prominence 1  prominence 2  low_freq_noise  target  \n",
       "0      0.008536      0.004159               1     1.0  \n",
       "1      0.015294      0.002769               1     1.0  \n",
       "2      0.009112      0.002840               0     1.0  \n",
       "3      0.014714      0.004862               1     1.0  \n",
       "4      0.008279      0.002267               0     1.0  "
      ]
     },
     "execution_count": 413,
     "metadata": {},
     "output_type": "execute_result"
    }
   ],
   "source": [
    "create_feature_df(el_sig, n=3, th1=0.05, th2=0.1, lf_th=1.5, path=path, download=True).head()"
   ]
  },
  {
   "cell_type": "code",
   "execution_count": 416,
   "metadata": {},
   "outputs": [
    {
     "data": {
      "text/html": [
       "<div>\n",
       "<style scoped>\n",
       "    .dataframe tbody tr th:only-of-type {\n",
       "        vertical-align: middle;\n",
       "    }\n",
       "\n",
       "    .dataframe tbody tr th {\n",
       "        vertical-align: top;\n",
       "    }\n",
       "\n",
       "    .dataframe thead th {\n",
       "        text-align: right;\n",
       "    }\n",
       "</style>\n",
       "<table border=\"1\" class=\"dataframe\">\n",
       "  <thead>\n",
       "    <tr style=\"text-align: right;\">\n",
       "      <th></th>\n",
       "      <th>#peaks_0.05</th>\n",
       "      <th>#peaks_0.1</th>\n",
       "      <th>freq 0</th>\n",
       "      <th>freq 1</th>\n",
       "      <th>freq 2</th>\n",
       "      <th>height 0</th>\n",
       "      <th>height 1</th>\n",
       "      <th>height 2</th>\n",
       "      <th>width 0</th>\n",
       "      <th>width 1</th>\n",
       "      <th>width 2</th>\n",
       "      <th>prominence 0</th>\n",
       "      <th>prominence 1</th>\n",
       "      <th>prominence 2</th>\n",
       "      <th>low_freq_noise</th>\n",
       "      <th>target</th>\n",
       "    </tr>\n",
       "  </thead>\n",
       "  <tbody>\n",
       "    <tr>\n",
       "      <th>0</th>\n",
       "      <td>5</td>\n",
       "      <td>3</td>\n",
       "      <td>8.487334</td>\n",
       "      <td>16.851663</td>\n",
       "      <td>0.615024</td>\n",
       "      <td>0.013464</td>\n",
       "      <td>0.008599</td>\n",
       "      <td>0.007835</td>\n",
       "      <td>2.107369</td>\n",
       "      <td>1.347714</td>\n",
       "      <td>1.242019</td>\n",
       "      <td>0.013246</td>\n",
       "      <td>0.008536</td>\n",
       "      <td>0.004159</td>\n",
       "      <td>1</td>\n",
       "      <td>1.0</td>\n",
       "    </tr>\n",
       "    <tr>\n",
       "      <th>1</th>\n",
       "      <td>3</td>\n",
       "      <td>2</td>\n",
       "      <td>8.487334</td>\n",
       "      <td>16.851663</td>\n",
       "      <td>0.738029</td>\n",
       "      <td>0.021348</td>\n",
       "      <td>0.015359</td>\n",
       "      <td>0.004381</td>\n",
       "      <td>2.084090</td>\n",
       "      <td>1.318957</td>\n",
       "      <td>2.294447</td>\n",
       "      <td>0.021204</td>\n",
       "      <td>0.015294</td>\n",
       "      <td>0.002769</td>\n",
       "      <td>1</td>\n",
       "      <td>1.0</td>\n",
       "    </tr>\n",
       "    <tr>\n",
       "      <th>2</th>\n",
       "      <td>7</td>\n",
       "      <td>5</td>\n",
       "      <td>8.487334</td>\n",
       "      <td>16.851663</td>\n",
       "      <td>5.043198</td>\n",
       "      <td>0.011128</td>\n",
       "      <td>0.009205</td>\n",
       "      <td>0.002923</td>\n",
       "      <td>2.137057</td>\n",
       "      <td>1.296551</td>\n",
       "      <td>1.201014</td>\n",
       "      <td>0.011093</td>\n",
       "      <td>0.009112</td>\n",
       "      <td>0.002840</td>\n",
       "      <td>0</td>\n",
       "      <td>1.0</td>\n",
       "    </tr>\n",
       "    <tr>\n",
       "      <th>3</th>\n",
       "      <td>7</td>\n",
       "      <td>6</td>\n",
       "      <td>16.851663</td>\n",
       "      <td>8.487334</td>\n",
       "      <td>0.615024</td>\n",
       "      <td>0.015052</td>\n",
       "      <td>0.014797</td>\n",
       "      <td>0.006998</td>\n",
       "      <td>1.314039</td>\n",
       "      <td>2.035020</td>\n",
       "      <td>1.874273</td>\n",
       "      <td>0.014973</td>\n",
       "      <td>0.014714</td>\n",
       "      <td>0.004862</td>\n",
       "      <td>1</td>\n",
       "      <td>1.0</td>\n",
       "    </tr>\n",
       "    <tr>\n",
       "      <th>4</th>\n",
       "      <td>3</td>\n",
       "      <td>3</td>\n",
       "      <td>8.487334</td>\n",
       "      <td>16.851663</td>\n",
       "      <td>12.669498</td>\n",
       "      <td>0.017404</td>\n",
       "      <td>0.008351</td>\n",
       "      <td>0.002373</td>\n",
       "      <td>2.034558</td>\n",
       "      <td>1.312960</td>\n",
       "      <td>1.071492</td>\n",
       "      <td>0.017341</td>\n",
       "      <td>0.008279</td>\n",
       "      <td>0.002267</td>\n",
       "      <td>0</td>\n",
       "      <td>1.0</td>\n",
       "    </tr>\n",
       "  </tbody>\n",
       "</table>\n",
       "</div>"
      ],
      "text/plain": [
       "   #peaks_0.05  #peaks_0.1     freq 0     freq 1     freq 2  height 0  \\\n",
       "0            5           3   8.487334  16.851663   0.615024  0.013464   \n",
       "1            3           2   8.487334  16.851663   0.738029  0.021348   \n",
       "2            7           5   8.487334  16.851663   5.043198  0.011128   \n",
       "3            7           6  16.851663   8.487334   0.615024  0.015052   \n",
       "4            3           3   8.487334  16.851663  12.669498  0.017404   \n",
       "\n",
       "   height 1  height 2   width 0   width 1   width 2  prominence 0  \\\n",
       "0  0.008599  0.007835  2.107369  1.347714  1.242019      0.013246   \n",
       "1  0.015359  0.004381  2.084090  1.318957  2.294447      0.021204   \n",
       "2  0.009205  0.002923  2.137057  1.296551  1.201014      0.011093   \n",
       "3  0.014797  0.006998  1.314039  2.035020  1.874273      0.014973   \n",
       "4  0.008351  0.002373  2.034558  1.312960  1.071492      0.017341   \n",
       "\n",
       "   prominence 1  prominence 2  low_freq_noise  target  \n",
       "0      0.008536      0.004159               1     1.0  \n",
       "1      0.015294      0.002769               1     1.0  \n",
       "2      0.009112      0.002840               0     1.0  \n",
       "3      0.014714      0.004862               1     1.0  \n",
       "4      0.008279      0.002267               0     1.0  "
      ]
     },
     "execution_count": 416,
     "metadata": {},
     "output_type": "execute_result"
    }
   ],
   "source": [
    "feature_matrix = pd.read_csv(path + '\\Feature matrix.csv', index_col=0)\n",
    "feature_matrix.head()"
   ]
  },
  {
   "cell_type": "markdown",
   "metadata": {},
   "source": [
    "-------------------------------------------------------"
   ]
  },
  {
   "cell_type": "markdown",
   "metadata": {},
   "source": [
    "#### Everything below this line is garbage"
   ]
  },
  {
   "cell_type": "code",
   "execution_count": 222,
   "metadata": {},
   "outputs": [
    {
     "data": {
      "text/plain": [
       "(895, 4)"
      ]
     },
     "execution_count": 222,
     "metadata": {},
     "output_type": "execute_result"
    }
   ],
   "source": [
    "properties_of_peaks(el_sig, 1).shape"
   ]
  },
  {
   "cell_type": "code",
   "execution_count": 206,
   "metadata": {},
   "outputs": [
    {
     "data": {
      "text/plain": [
       "136    16.851663\n",
       "68      8.487334\n",
       "Name: Bsk 2 D4_xf, dtype: float64"
      ]
     },
     "execution_count": 206,
     "metadata": {},
     "output_type": "execute_result"
    }
   ],
   "source": [
    "peaks, properties = find_peaks(el_sig.iloc[:,6], height=0, prominence=0, width=0)\n",
    "# properties['peak_index'] = peaks\n",
    "z = np.argsort(properties['peak_heights'])\n",
    "z = z[:-3:-1]\n",
    "el_sig.iloc[:,7][peaks[z]]"
   ]
  },
  {
   "cell_type": "code",
   "execution_count": null,
   "metadata": {},
   "outputs": [],
   "source": []
  },
  {
   "cell_type": "code",
   "execution_count": 105,
   "metadata": {},
   "outputs": [
    {
     "data": {
      "text/plain": [
       "array([0.01346359])"
      ]
     },
     "execution_count": 105,
     "metadata": {},
     "output_type": "execute_result"
    }
   ],
   "source": [
    "peaks, properties = find_peaks(el_sig.iloc[:,0], height=0, prominence=0, width=0)\n",
    "properties['peak_index'] = peaks\n",
    "z = np.argsort(properties['peak_heights'])\n",
    "z = z[:-2:-1]\n",
    "h = properties['peak_heights'][z]\n",
    "h\n",
    "# index = np.argsort(properties['peak_heights'])\n",
    "# m = np.argmax(properties['peak_heights'])\n",
    "# index[:-5:-1]"
   ]
  },
  {
   "cell_type": "code",
   "execution_count": 17,
   "metadata": {},
   "outputs": [
    {
     "data": {
      "text/plain": [
       "199     68\n",
       "198     67\n",
       "197    136\n",
       "196      4\n",
       "Name: Bsk 1 B5_yf, dtype: int64"
      ]
     },
     "execution_count": 17,
     "metadata": {},
     "output_type": "execute_result"
    }
   ],
   "source": [
    "a = np.argsort(el_sig.iloc[:,0])\n",
    "a[:-5:-1]"
   ]
  },
  {
   "cell_type": "code",
   "execution_count": 62,
   "metadata": {},
   "outputs": [],
   "source": [
    "el_num_5 = number_of_peaks(el_sig, 0.05)\n",
    "el_num_10 = number_of_peaks(el_sig, 0.1)\n",
    "el_features = pd.concat([el_features, el_num_5, el_num_10], axis=1)"
   ]
  },
  {
   "cell_type": "code",
   "execution_count": 72,
   "metadata": {},
   "outputs": [
    {
     "data": {
      "text/plain": [
       "1784"
      ]
     },
     "execution_count": 72,
     "metadata": {},
     "output_type": "execute_result"
    }
   ],
   "source": [
    "892*2"
   ]
  },
  {
   "cell_type": "code",
   "execution_count": 218,
   "metadata": {},
   "outputs": [
    {
     "data": {
      "text/plain": [
       "[<matplotlib.lines.Line2D at 0x1e5c862bdd8>]"
      ]
     },
     "execution_count": 218,
     "metadata": {},
     "output_type": "execute_result"
    },
    {
     "data": {
      "image/png": "[encoded data removed]",
      "text/plain": [
       "<Figure size 1440x432 with 2 Axes>"
      ]
     },
     "metadata": {},
     "output_type": "display_data"
    }
   ],
   "source": [
    "fig = plt.figure(figsize=(20, 6))\n",
    "ax = fig.subplots(1, 2)\n",
    "\n",
    "y1 = el_sig.iloc[:,2]\n",
    "x1 = el_sig.iloc[:,3]\n",
    "y2 = el_sig.iloc[:,0]\n",
    "x2 = el_sig.iloc[:,1]\n",
    "\n",
    "ax[0].plot(x1, y1)\n",
    "ax[1].plot(x2, y2)\n",
    "\n"
   ]
  },
  {
   "cell_type": "code",
   "execution_count": 208,
   "metadata": {},
   "outputs": [],
   "source": [
    "peaks, properties = find_peaks(y1, height=0)"
   ]
  },
  {
   "cell_type": "code",
   "execution_count": 209,
   "metadata": {},
   "outputs": [
    {
     "data": {
      "image/png": "[encoded data removed]",
      "text/plain": [
       "<Figure size 432x288 with 1 Axes>"
      ]
     },
     "metadata": {},
     "output_type": "display_data"
    },
    {
     "name": "stdout",
     "output_type": "stream",
     "text": [
      "47\n"
     ]
    }
   ],
   "source": [
    "max_height = np.max(properties['peak_heights'])\n",
    "peaks, properties = find_peaks(y1, threshold = 0)\n",
    "\n",
    "\n",
    "plt.plot(y1)\n",
    "plt.plot(peaks, y1[peaks], \"x\")\n",
    "plt.show()\n",
    "print(peaks.shape[0])"
   ]
  },
  {
   "cell_type": "code",
   "execution_count": 79,
   "metadata": {},
   "outputs": [
    {
     "data": {
      "text/plain": [
       "{'left_thresholds': array([1.68985745e-01, 1.09850929e-03, 1.63293153e-04, 1.18094217e-02,\n",
       "        5.15826835e-03, 6.44266950e-03, 1.39914417e-02, 1.58514129e-02,\n",
       "        2.65309969e-03, 7.62701927e-03, 1.86963235e-03, 2.06579531e-03,\n",
       "        3.29771573e-03, 5.40716414e-03, 3.27774951e-05, 7.21727514e-03,\n",
       "        1.92298803e-03, 7.33632455e-04, 2.67908434e-03, 4.18985480e-03,\n",
       "        5.34531908e-04, 2.31519893e-03, 4.08999904e-03, 1.41248776e-03,\n",
       "        2.21224055e-03, 2.16016361e-03, 6.27102401e-04, 1.64346599e-03,\n",
       "        1.41708693e-03, 2.08609207e-03, 2.79748243e-04, 1.19132806e-03,\n",
       "        1.01449898e-03, 1.39476230e-03, 1.25887459e-04, 3.78032634e-04,\n",
       "        1.29690036e-03, 1.15860530e-04, 5.37731431e-04, 6.55434016e-04,\n",
       "        8.60623789e-04, 1.26943607e-03, 7.51979490e-05, 6.97984049e-05,\n",
       "        8.52939767e-04, 2.33374608e-05, 3.67471298e-04, 7.09896745e-04]),\n",
       " 'right_thresholds': array([0.05161102, 0.04416179, 0.02864188, 0.01300526, 0.02020081,\n",
       "        0.01600428, 0.01229413, 0.00807364, 0.0107208 , 0.00783846,\n",
       "        0.00197166, 0.00812254, 0.00531821, 0.00502911, 0.00788459,\n",
       "        0.00027923, 0.00528108, 0.0012659 , 0.00034696, 0.00192742,\n",
       "        0.0035265 , 0.00152816, 0.00045441, 0.00061938, 0.00168735,\n",
       "        0.00032231, 0.00313934, 0.00277364, 0.00148183, 0.00012187,\n",
       "        0.00212887, 0.00282848, 0.00077079, 0.00038793, 0.00162844,\n",
       "        0.00128431, 0.00073373, 0.00182075, 0.00189627, 0.00134541,\n",
       "        0.00067479, 0.00054725, 0.00140531, 0.00114056, 0.00073576,\n",
       "        0.00158088, 0.00099017, 0.00139278])}"
      ]
     },
     "execution_count": 79,
     "metadata": {},
     "output_type": "execute_result"
    }
   ],
   "source": [
    "properties"
   ]
  },
  {
   "cell_type": "code",
   "execution_count": 129,
   "metadata": {},
   "outputs": [
    {
     "data": {
      "text/plain": [
       "0.013463587025090335"
      ]
     },
     "execution_count": 129,
     "metadata": {},
     "output_type": "execute_result"
    }
   ],
   "source": [
    "np.max(el_props[0]['peak_heights'])\n",
    "# el_props[0]['peak_heights'][-4:]\n"
   ]
  },
  {
   "cell_type": "code",
   "execution_count": 79,
   "metadata": {},
   "outputs": [
    {
     "data": {
      "text/plain": [
       "array([  4,   7,  11,  17,  20,  22,  24,  28,  30,  33,  36,  39,  42,\n",
       "        44,  47,  50,  55,  58,  60,  62,  64,  66,  68,  70,  78,  88,\n",
       "        90,  94,  96, 100, 102, 104, 106, 108, 111, 113, 118, 121, 123,\n",
       "       128, 131, 133, 137, 139, 141, 143, 145, 147, 149, 153, 156],\n",
       "      dtype=int64)"
      ]
     },
     "execution_count": 79,
     "metadata": {},
     "output_type": "execute_result"
    }
   ],
   "source": [
    "peaks"
   ]
  },
  {
   "cell_type": "code",
   "execution_count": 92,
   "metadata": {},
   "outputs": [
    {
     "data": {
      "text/plain": [
       "dict_keys(['peak_heights'])"
      ]
     },
     "execution_count": 92,
     "metadata": {},
     "output_type": "execute_result"
    }
   ],
   "source": []
  },
  {
   "cell_type": "code",
   "execution_count": 100,
   "metadata": {},
   "outputs": [
    {
     "data": {
      "image/png": "[encoded data removed]",
      "text/plain": [
       "<Figure size 432x288 with 1 Axes>"
      ]
     },
     "metadata": {},
     "output_type": "display_data"
    }
   ],
   "source": [
    "plt.plot(el_sig.iloc[:-42,78])\n",
    "plt.plot(peaks, el_sig.iloc[:-42,78][peaks], \"x\")\n",
    "plt.show()\n"
   ]
  },
  {
   "cell_type": "code",
   "execution_count": null,
   "metadata": {},
   "outputs": [],
   "source": []
  }
 ],
 "metadata": {
  "kernelspec": {
   "display_name": "Python 3",
   "language": "python",
   "name": "python3"
  },
  "language_info": {
   "codemirror_mode": {
    "name": "ipython",
    "version": 3
   },
   "file_extension": ".py",
   "mimetype": "text/x-python",
   "name": "python",
   "nbconvert_exporter": "python",
   "pygments_lexer": "ipython3",
   "version": "3.6.5"
  }
 },
 "nbformat": 4,
 "nbformat_minor": 2
}
