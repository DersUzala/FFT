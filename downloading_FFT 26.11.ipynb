{
 "cells": [
  {
   "cell_type": "code",
   "execution_count": 64,
   "metadata": {},
   "outputs": [],
   "source": [
    "import pandas as pd\n",
    "import matplotlib.pyplot as plt\n",
    "import seaborn as sns\n",
    "import numpy as np\n",
    "\n",
    "from scipy.signal import lfilter, butter\n",
    "\n",
    "import os\n",
    "import glob\n",
    "\n",
    "from tqdm import tqdm\n",
    "%matplotlib inline"
   ]
  },
  {
   "cell_type": "markdown",
   "metadata": {},
   "source": [
    "# Upload the data "
   ]
  },
  {
   "cell_type": "code",
   "execution_count": 73,
   "metadata": {},
   "outputs": [
    {
     "data": {
      "text/plain": [
       "['H72_F75_Electrode_KH_OM_KH.csv',\n",
       " 'H79_F108_csv_annot_OM_KH.csv',\n",
       " 'H79_F125_csv_annot MISSING H8_OM_KH.csv',\n",
       " 'H81_F158_csv_annot_KH.csv',\n",
       " 'H81_F171_csv_annot_OM_KH.csv',\n",
       " 'H82_F111_csv_annot_OM_KH.csv',\n",
       " 'H96_F61_csv_annot_OM_KH.csv',\n",
       " 'H96_F88_csv_annot_OM_KH.csv']"
      ]
     },
     "execution_count": 73,
     "metadata": {},
     "output_type": "execute_result"
    }
   ],
   "source": [
    "path = r'C:\\Users\\ecath\\Desktop\\Research\\Raw Data\\Ex Vivo CSV Files'\n",
    "os.listdir(path)"
   ]
  },
  {
   "cell_type": "code",
   "execution_count": 74,
   "metadata": {},
   "outputs": [
    {
     "name": "stdout",
     "output_type": "stream",
     "text": [
      "C:\\Users\\ecath\\Desktop\\Research\\Raw Data\\Ex Vivo CSV Files\\H72_F75_Electrode_KH_OM_KH.csv (12207, 384)\n",
      "C:\\Users\\ecath\\Desktop\\Research\\Raw Data\\Ex Vivo CSV Files\\H79_F108_csv_annot_OM_KH.csv (8270, 384)\n",
      "C:\\Users\\ecath\\Desktop\\Research\\Raw Data\\Ex Vivo CSV Files\\H79_F125_csv_annot MISSING H8_OM_KH.csv (8775, 384)\n",
      "C:\\Users\\ecath\\Desktop\\Research\\Raw Data\\Ex Vivo CSV Files\\H81_F158_csv_annot_KH.csv (8138, 384)\n",
      "C:\\Users\\ecath\\Desktop\\Research\\Raw Data\\Ex Vivo CSV Files\\H81_F171_csv_annot_OM_KH.csv (10173, 384)\n",
      "C:\\Users\\ecath\\Desktop\\Research\\Raw Data\\Ex Vivo CSV Files\\H82_F111_csv_annot_OM_KH.csv (10173, 384)\n",
      "C:\\Users\\ecath\\Desktop\\Research\\Raw Data\\Ex Vivo CSV Files\\H96_F61_csv_annot_OM_KH.csv (8191, 384)\n",
      "C:\\Users\\ecath\\Desktop\\Research\\Raw Data\\Ex Vivo CSV Files\\H96_F88_csv_annot_OM_KH.csv (8191, 384)\n"
     ]
    }
   ],
   "source": [
    "data_list = []\n",
    "for filename in glob.glob(os.path.join(path, '*.csv')):\n",
    "#     if filename != r'C:\\Users\\ecath\\Desktop\\Research\\Raw Data\\Ex Vivo CSV Files\\H72_F75_Electrode_KH_OM_KH.csv':\n",
    "    data = pd.read_csv(filename, header=0)\n",
    "    print(filename, data.shape)\n",
    "    data_list.append(data)"
   ]
  },
  {
   "cell_type": "markdown",
   "metadata": {},
   "source": [
    "# Division by classes "
   ]
  },
  {
   "cell_type": "code",
   "execution_count": 75,
   "metadata": {},
   "outputs": [],
   "source": [
    "drivers = []\n",
    "nondrivers = []\n",
    "noises = []\n",
    "\n",
    "for df in data_list:\n",
    "    driver = pd.DataFrame()\n",
    "    nondriver = pd.DataFrame()\n",
    "    noise = pd.DataFrame()\n",
    "    for col in df.columns[1::3]:\n",
    "        curr_index = list(df.columns).index(col)\n",
    "        prev_index = curr_index - 1\n",
    "        next_index = curr_index + 1\n",
    "        prev_col = df.iloc[:,prev_index]\n",
    "        next_col = df.iloc[:,next_index]\n",
    "        if df[col][0] == 1:\n",
    "            driver[df.columns[prev_index]] = prev_col\n",
    "            driver[df.columns[next_index]] = next_col\n",
    "        elif df[col][0] == 0:\n",
    "            nondriver[df.columns[prev_index]] = prev_col\n",
    "            nondriver[df.columns[next_index]] = next_col\n",
    "        elif df[col][0] == -1:\n",
    "            noise[df.columns[prev_index]] = prev_col\n",
    "            noise[df.columns[next_index]] = next_col\n",
    "    drivers.append(driver)\n",
    "    nondrivers.append(nondriver)\n",
    "    noises.append(noise)"
   ]
  },
  {
   "cell_type": "markdown",
   "metadata": {},
   "source": [
    "# Butterworth highpass for 1Hz"
   ]
  },
  {
   "cell_type": "code",
   "execution_count": 76,
   "metadata": {},
   "outputs": [],
   "source": [
    "def butter_highpass(data, highcut, fs, order=2):\n",
    "    nyq = 0.5 * fs\n",
    "    high = highcut / nyq\n",
    "    b, a = butter(order, high, btype='highpass', analog=False)\n",
    "    y = lfilter(b, a, data)\n",
    "    return y"
   ]
  },
  {
   "cell_type": "markdown",
   "metadata": {},
   "source": [
    "# Fourier transform"
   ]
  },
  {
   "cell_type": "code",
   "execution_count": 77,
   "metadata": {},
   "outputs": [],
   "source": [
    "# function that delete NaN and fully zero columns\n",
    "def del_nul_and_nan(df):\n",
    "    \n",
    "    df.fillna(value=0, axis=1, inplace=True)\n",
    "    \n",
    "    for col in df.columns:\n",
    "        if df[col].sum() == 0:\n",
    "            df.drop([col], axis = 1, inplace = True)  \n",
    "    \n",
    "    return df"
   ]
  },
  {
   "cell_type": "code",
   "execution_count": 78,
   "metadata": {},
   "outputs": [],
   "source": [
    "#create DataFrame with signal spectrum cutted on 20Hz for one dataframe from one class\n",
    "\n",
    "def concat_fft(df, N, F, low_freq=1.0):\n",
    "    \n",
    "    fft_out = pd.DataFrame()\n",
    "    \n",
    "    for col in df.columns:\n",
    "        filtered_yf = butter_highpass(df[col], low_freq, F, order=2)\n",
    "        fft_yf = np.fft.fft(filtered_yf) #spectrum\n",
    "        fft_xf = np.fft.fftfreq(N, 1/F) #frequencies\n",
    "        \n",
    "        fft_20_index = np.argwhere((fft_xf<20) & (fft_xf>0))        \n",
    "        fft_yf_20 = fft_yf[fft_20_index] #cutting on 20Hz\n",
    "        fft_xf_20 = fft_xf[fft_20_index] #cutting on 20Hz\n",
    "        \n",
    "        fft_yf_20 = pd.DataFrame(np.abs(fft_yf_20)/N, columns=[col + '_yf'])\n",
    "        fft_xf_20 = pd.DataFrame(fft_xf_20, columns=[col + '_xf']) \n",
    "\n",
    "        fft_out = pd.concat([fft_out, fft_yf_20, fft_xf_20], axis=1)\n",
    "        \n",
    "    return(fft_out)"
   ]
  },
  {
   "cell_type": "code",
   "execution_count": 84,
   "metadata": {},
   "outputs": [],
   "source": [
    "def full_fft_list(class_df):\n",
    "    \n",
    "    all_fft_el = []\n",
    "    all_fft_om = []\n",
    "\n",
    "    for k, df in enumerate(class_df):\n",
    "\n",
    "        electrode_signal = df[df.columns[::2]]\n",
    "        optical_signal = df[df.columns[1::2]]\n",
    "\n",
    "        electrode_signal = del_nul_and_nan(electrode_signal)\n",
    "        optical_signal = del_nul_and_nan(optical_signal)        \n",
    "\n",
    "        N = df.shape[0] # Number of sample points\n",
    "        Fs_el = 1017.25 # sampling rate\n",
    "        Fs_om = 1000.0\n",
    "\n",
    "        fft_el = concat_fft(electrode_signal, N, Fs_el, low_freq=1.0,)\n",
    "        all_fft_el.append(fft_el)\n",
    "\n",
    "        fft_om = concat_fft(optical_signal, N, Fs_om, low_freq=1.0)\n",
    "        all_fft_om.append(fft_om)\n",
    "        \n",
    "    return(all_fft_el, all_fft_om)"
   ]
  },
  {
   "cell_type": "code",
   "execution_count": 80,
   "metadata": {},
   "outputs": [],
   "source": [
    "def fft_creation_el(dataframe, label):\n",
    "    \n",
    "    all_fft_el, _ = full_fft_list(dataframe)\n",
    "\n",
    "    for i in tqdm(range(len(all_fft_el))):\n",
    "        \n",
    "        target = np.full(shape=(1, all_fft_el[i].shape[1]), fill_value = label)\n",
    "        target = pd.DataFrame(target, columns=all_fft_el[i].columns, index=['target'])\n",
    "\n",
    "        all_fft_el[i] = all_fft_el[i].append(target)\n",
    "    \n",
    "    all_fft = pd.DataFrame()\n",
    "    \n",
    "    for i in range(len(all_fft_el)):\n",
    "        all_fft = pd.concat([all_fft, all_fft_el[i]], axis=1)\n",
    "\n",
    "    return(all_fft)"
   ]
  },
  {
   "cell_type": "code",
   "execution_count": 81,
   "metadata": {},
   "outputs": [],
   "source": [
    "def fft_creation_om(dataframe, label):\n",
    "   \n",
    "    _, all_fft_om = full_fft_list(dataframe)\n",
    "    \n",
    "#     m = []\n",
    "    \n",
    "#     for i in range(len(all_fft_om)):\n",
    "#         m.append(all_fft_om[i].shape[0])\n",
    "\n",
    "    for i in tqdm(range(len(all_fft_om))):\n",
    "#         mx = np.max(m) - all_fft_om[i].shape[0]\n",
    "\n",
    "#         zeros = np.zeros(shape=(mx, all_fft_om[i].shape[1]))\n",
    "#         zeros = pd.DataFrame(zeros, columns=all_fft_om[i].columns, index=np.arange(all_fft_om[i].shape[0], np.max(m)))\n",
    "        \n",
    "#         all_fft_om[i] = all_fft_om[i].append(zeros)\n",
    "\n",
    "        target = np.full(shape=(1, all_fft_om[i].shape[1]), fill_value = label)\n",
    "        target = pd.DataFrame(target, columns=all_fft_om[i].columns, index=['target'])\n",
    "\n",
    "        all_fft_om[i] = all_fft_om[i].append(target)\n",
    "    \n",
    "    all_fft = pd.DataFrame()\n",
    "    \n",
    "    for i in range(len(all_fft_om)):\n",
    "        all_fft = pd.concat([all_fft, all_fft_om[i]], axis=1)\n",
    "\n",
    "    return(all_fft)"
   ]
  },
  {
   "cell_type": "markdown",
   "metadata": {},
   "source": [
    "# Concat dataframes with spectrum for each class and download them"
   ]
  },
  {
   "cell_type": "code",
   "execution_count": 82,
   "metadata": {},
   "outputs": [],
   "source": [
    "path = r'C:\\Users\\Public\\Documents\\HRS'"
   ]
  },
  {
   "cell_type": "code",
   "execution_count": 86,
   "metadata": {},
   "outputs": [
    {
     "name": "stderr",
     "output_type": "stream",
     "text": [
      "C:\\Users\\ecath\\Anaconda3\\lib\\site-packages\\pandas\\core\\frame.py:3035: SettingWithCopyWarning: \n",
      "A value is trying to be set on a copy of a slice from a DataFrame\n",
      "\n",
      "See the caveats in the documentation: http://pandas.pydata.org/pandas-docs/stable/indexing.html#indexing-view-versus-copy\n",
      "  downcast=downcast, **kwargs)\n",
      "C:\\Users\\ecath\\Anaconda3\\lib\\site-packages\\ipykernel_launcher.py:8: SettingWithCopyWarning: \n",
      "A value is trying to be set on a copy of a slice from a DataFrame\n",
      "\n",
      "See the caveats in the documentation: http://pandas.pydata.org/pandas-docs/stable/indexing.html#indexing-view-versus-copy\n",
      "  \n",
      "100%|███████████████████████████████████████████████████████████████████████████████████| 8/8 [00:00<00:00, 525.98it/s]\n",
      "100%|███████████████████████████████████████████████████████████████████████████████████| 8/8 [00:00<00:00, 520.35it/s]\n"
     ]
    }
   ],
   "source": [
    "a = fft_creation_el(drivers, 1)\n",
    "b = fft_creation_el(nondrivers, 0)\n",
    "# c = fft_creation_el(noises, -1) \n",
    "\n",
    "final = pd.concat([a, b], axis=1)\n",
    "final.fillna(value=0, axis=1, inplace=True)\n",
    "final.to_csv(path + '\\All FFT of electrode signal without noise with highpass filter.csv', sep=',', index=True)"
   ]
  },
  {
   "cell_type": "code",
   "execution_count": 87,
   "metadata": {},
   "outputs": [
    {
     "name": "stderr",
     "output_type": "stream",
     "text": [
      "C:\\Users\\ecath\\Anaconda3\\lib\\site-packages\\pandas\\core\\frame.py:3035: SettingWithCopyWarning: \n",
      "A value is trying to be set on a copy of a slice from a DataFrame\n",
      "\n",
      "See the caveats in the documentation: http://pandas.pydata.org/pandas-docs/stable/indexing.html#indexing-view-versus-copy\n",
      "  downcast=downcast, **kwargs)\n",
      "C:\\Users\\ecath\\Anaconda3\\lib\\site-packages\\ipykernel_launcher.py:8: SettingWithCopyWarning: \n",
      "A value is trying to be set on a copy of a slice from a DataFrame\n",
      "\n",
      "See the caveats in the documentation: http://pandas.pydata.org/pandas-docs/stable/indexing.html#indexing-view-versus-copy\n",
      "  \n",
      "100%|███████████████████████████████████████████████████████████████████████████████████| 8/8 [00:00<00:00, 504.01it/s]\n",
      "100%|███████████████████████████████████████████████████████████████████████████████████| 8/8 [00:00<00:00, 460.82it/s]\n"
     ]
    }
   ],
   "source": [
    "a = fft_creation_om(drivers, 1)\n",
    "b = fft_creation_om(nondrivers, 0)\n",
    "# c = fft_creation_om(noises, -1) \n",
    "\n",
    "final = pd.concat([a, b], axis=1)\n",
    "final.fillna(value=0, axis=1, inplace=True)\n",
    "final.to_csv(path + '\\All FFT of optical signal without noise with highpass filter.csv', sep=',', index=True)"
   ]
  },
  {
   "cell_type": "code",
   "execution_count": null,
   "metadata": {},
   "outputs": [],
   "source": []
  }
 ],
 "metadata": {
  "kernelspec": {
   "display_name": "Python 3",
   "language": "python",
   "name": "python3"
  },
  "language_info": {
   "codemirror_mode": {
    "name": "ipython",
    "version": 3
   },
   "file_extension": ".py",
   "mimetype": "text/x-python",
   "name": "python",
   "nbconvert_exporter": "python",
   "pygments_lexer": "ipython3",
   "version": "3.6.5"
  }
 },
 "nbformat": 4,
 "nbformat_minor": 2
}
