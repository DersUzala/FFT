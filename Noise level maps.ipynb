{
 "cells": [
  {
   "cell_type": "code",
   "execution_count": 9,
   "metadata": {},
   "outputs": [],
   "source": [
    "import pandas as pd\n",
    "import numpy as np \n",
    "import scipy\n",
    "import matplotlib.pyplot as plt\n",
    "%matplotlib inline\n",
    "import seaborn as sns\n",
    "from scipy.signal import lfilter, butter, welch\n",
    "from scipy.signal import find_peaks\n",
    "import os\n",
    "import glob\n",
    "\n",
    "from tqdm import tqdm_notebook"
   ]
  },
  {
   "cell_type": "code",
   "execution_count": 10,
   "metadata": {},
   "outputs": [],
   "source": [
    "path = r'Z:\\Fedorov\\Physiology\\Fedorov-Lab\\Skoltech Collaboration\\test 04_04_2019'"
   ]
  },
  {
   "cell_type": "code",
   "execution_count": 11,
   "metadata": {},
   "outputs": [
    {
     "name": "stdout",
     "output_type": "stream",
     "text": [
      "Z:\\Fedorov\\Physiology\\Fedorov-Lab\\Skoltech Collaboration\\test 04_04_2019\\1.csv_annot.csv (10173, 192)\n"
     ]
    }
   ],
   "source": [
    "for filename in glob.glob(os.path.join(path, '*.csv')):\n",
    "    data = pd.read_csv(filename, header=0)\n",
    "    print(filename, data.shape)"
   ]
  },
  {
   "cell_type": "code",
   "execution_count": 12,
   "metadata": {},
   "outputs": [],
   "source": [
    "\"\"\"\n",
    "Function performs bandpass filter for the digital signal \n",
    "\n",
    "Parameters: \n",
    "-----------\n",
    "data: array_like\n",
    "    An N-dimensional input array\n",
    "lowcut: float\n",
    "    Low cutoff frequency\n",
    "highcut: float\n",
    "    High cutoff frequency\n",
    "fs: float\n",
    "    Sampling rate of the signal\n",
    "order: int\n",
    "    The order of the filter.\n",
    "\n",
    "Returns: \n",
    "-------\n",
    "filtered_signal: array\n",
    "    The output of the digital filter\n",
    "\"\"\"\n",
    "\n",
    "def butter_bandpass(data, lowcut, highcut, fs, order=2):\n",
    "    nyq = 0.5 * fs\n",
    "    \n",
    "    high = highcut / nyq\n",
    "    low = lowcut / nyq\n",
    "    \n",
    "    b, a = butter(order, [low, high], btype='bandpass', analog=False)\n",
    "    filtered_signal = lfilter(b, a, data)\n",
    "    \n",
    "    return filtered_signal\n",
    "\n",
    "\n",
    "\"\"\"\n",
    "Fill NaN with zeros\n",
    "\n",
    "Parameters: \n",
    "-----------\n",
    "df: DataFrame\n",
    "    DataFrame with NaNs\n",
    "    \n",
    "Returns: \n",
    "-------\n",
    "df: Dataframe\n",
    "    All NaNs filled by zeros\n",
    "\"\"\"\n",
    "\n",
    "def del_nul_and_nan(df):\n",
    "    \n",
    "    df.fillna(value=0, axis=1, inplace=True)    \n",
    "    return df\n",
    "\n",
    "\n",
    "\"\"\"\n",
    "\n",
    "\n",
    "Parameters: \n",
    "-----------\n",
    "df: pd.DataFrame\n",
    "    An N-dimensional input DataFrame\n",
    "N: int\n",
    "    Number of sample points\n",
    "lowcut: float\n",
    "    Low cutoff frequency\n",
    "highcut: float\n",
    "    High cutoff frequency\n",
    "fs: float\n",
    "    Sampling rate of the signal\n",
    "\n",
    "Returns: \n",
    "-------\n",
    "fft_out: pd.DataFrame\n",
    "    An output Dataframe with spectrum and frequencies \n",
    "\"\"\"\n",
    "\n",
    "def spec_and_freq_for_single_df(df, N, fs, lowcut, highcut):\n",
    "    \n",
    "    fft_out = pd.DataFrame()\n",
    "    \n",
    "    for col in df.columns:\n",
    "        filtered_yf = butter_bandpass(df[col], lowcut, highcut, fs, order=2)\n",
    "        \n",
    "        \n",
    "        fft_yf = np.fft.fft(filtered_yf) #spectrum\n",
    "        fft_xf = np.fft.fftfreq(N, 1/fs) #frequencies\n",
    "        \n",
    "        fft_20_index = np.argwhere((fft_xf<20) & (fft_xf>0))        \n",
    "        fft_yf_20 = fft_yf[fft_20_index] #cutting on 20Hz\n",
    "        fft_xf_20 = fft_xf[fft_20_index] #cutting on 20Hz\n",
    "        \n",
    "        fft_yf_20 = pd.DataFrame(np.abs(fft_yf_20) / N, columns=[col + '_yf'])\n",
    "        fft_xf_20 = pd.DataFrame(fft_xf_20, columns=[col + '_xf']) \n",
    "\n",
    "        fft_out = pd.concat([fft_out, fft_yf_20, fft_xf_20], axis=1)\n",
    "        \n",
    "    return(fft_out)\n",
    "\n",
    "\n",
    "\n",
    "\"\"\"\n",
    "\n",
    "Parameters: \n",
    "-----------\n",
    "class_data_list: list\n",
    "    List with DataFrames \n",
    "    \n",
    "Returns: \n",
    "-------\n",
    "all_fft_el, all_fft_om: list, list\n",
    "    Lists with spectrum and frequencies DataFrames\n",
    "\"\"\"\n",
    "\n",
    "def full_spec_and_freq(df):\n",
    "    \n",
    "    all_fft_el = pd.DataFrame()\n",
    "    all_fft_om = pd.DataFrame()\n",
    "\n",
    "    electrode_signal = df[df.columns[::3]]\n",
    "    optical_signal = df[df.columns[2::3]]\n",
    "\n",
    "    electrode_signal = del_nul_and_nan(electrode_signal)\n",
    "    optical_signal = del_nul_and_nan(optical_signal)        \n",
    "\n",
    "    N = df.shape[0] # Number of sample points\n",
    "    Fs_el = 1017.25 # sampling rate\n",
    "    Fs_om = 1000.0\n",
    "         \n",
    "    fft_el = spec_and_freq_for_single_df(electrode_signal, N, Fs_el, lowcut=1.5, highcut=20.0)\n",
    "    fft_om = spec_and_freq_for_single_df(optical_signal, N, Fs_om, lowcut=1.5, highcut=20.0)\n",
    "            \n",
    "        \n",
    "    all_fft_el = pd.concat([all_fft_el, fft_el], axis=1)\n",
    "    all_fft_om = pd.concat([all_fft_om, fft_om], axis=1)\n",
    "        \n",
    "    return(all_fft_el, all_fft_om)\n",
    "\n",
    "\n",
    "\n",
    "def max_peak_to_noise(df):\n",
    "    y_col = [col for col in df.columns if '_yf' in col]\n",
    "    y_df = df[y_col]\n",
    "    snr = []\n",
    "        \n",
    "    for i in range(y_df.shape[1]):          \n",
    "        s = y_df[y_col[i]][y_df[y_col[i]] != 0]\n",
    "\n",
    "        _, properties = find_peaks(s, height=0)\n",
    "        mean_max = np.mean(np.sort(properties['peak_heights'])[-2:])#np.max(properties['peak_heights'])\n",
    "        sd = s.std(axis=0)\n",
    "        ratio = np.round(mean_max / sd, 2)\n",
    "        ratio = np.where(sd == 0, 0, ratio)\n",
    "        snr.append(ratio)\n",
    "        \n",
    "    snr = pd.DataFrame(snr, columns=['SNR'], index=y_df.columns)\n",
    "   \n",
    "    return snr"
   ]
  },
  {
   "cell_type": "code",
   "execution_count": 13,
   "metadata": {},
   "outputs": [],
   "source": [
    "MEM_spectrum,NIOM_spectrum = full_spec_and_freq(data)"
   ]
  },
  {
   "cell_type": "code",
   "execution_count": 14,
   "metadata": {},
   "outputs": [
    {
     "name": "stderr",
     "output_type": "stream",
     "text": [
      "C:\\ProgramData\\Anaconda3\\lib\\site-packages\\numpy\\core\\fromnumeric.py:2920: RuntimeWarning: Mean of empty slice.\n",
      "  out=out, **kwargs)\n",
      "C:\\ProgramData\\Anaconda3\\lib\\site-packages\\numpy\\core\\_methods.py:85: RuntimeWarning: invalid value encountered in double_scalars\n",
      "  ret = ret.dtype.type(ret / rcount)\n"
     ]
    }
   ],
   "source": [
    "MEM_snr = max_peak_to_noise(MEM_spectrum)\n",
    "MEM_snr_resized = np.resize(MEM_snr,(8,8)).transpose()\n",
    "NIOM_snr = max_peak_to_noise(NIOM_spectrum)\n",
    "NIOM_snr_resized = np.resize(NIOM_snr,(8,8)).transpose()"
   ]
  },
  {
   "cell_type": "code",
   "execution_count": 15,
   "metadata": {},
   "outputs": [
    {
     "data": {
      "image/png": "[encoded data removed]",
      "text/plain": [
       "<Figure size 432x288 with 2 Axes>"
      ]
     },
     "metadata": {
      "needs_background": "light"
     },
     "output_type": "display_data"
    }
   ],
   "source": [
    "ax = sns.heatmap(MEM_snr_resized, vmin=0, vmax=10, annot=True,cmap=\"coolwarm\")"
   ]
  },
  {
   "cell_type": "code",
   "execution_count": 17,
   "metadata": {},
   "outputs": [
    {
     "data": {
      "image/png": "[encoded data removed]",
      "text/plain": [
       "<Figure size 432x288 with 2 Axes>"
      ]
     },
     "metadata": {
      "needs_background": "light"
     },
     "output_type": "display_data"
    }
   ],
   "source": [
    "ax = sns.heatmap(NIOM_snr_resized, vmin=0, vmax=10, annot=True,cmap=\"coolwarm\")"
   ]
  }
 ],
 "metadata": {
  "kernelspec": {
   "display_name": "Python 3",
   "language": "python",
   "name": "python3"
  },
  "language_info": {
   "codemirror_mode": {
    "name": "ipython",
    "version": 3
   },
   "file_extension": ".py",
   "mimetype": "text/x-python",
   "name": "python",
   "nbconvert_exporter": "python",
   "pygments_lexer": "ipython3",
   "version": "3.7.1"
  }
 },
 "nbformat": 4,
 "nbformat_minor": 2
}
