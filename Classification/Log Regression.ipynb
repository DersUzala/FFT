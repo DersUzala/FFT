{
 "cells": [
  {
   "cell_type": "code",
   "execution_count": 5,
   "metadata": {},
   "outputs": [],
   "source": [
    "import pandas as pd\n",
    "import numpy as np\n",
    "from sklearn.model_selection import train_test_split\n",
    "from sklearn.linear_model import LogisticRegression\n",
    "from sklearn.grid_search import GridSearchCV\n",
    "from sklearn.metrics import accuracy_score, confusion_matrix, f1_score\n",
    "from sklearn.preprocessing import StandardScaler"
   ]
  },
  {
   "cell_type": "code",
   "execution_count": 11,
   "metadata": {},
   "outputs": [
    {
     "name": "stdout",
     "output_type": "stream",
     "text": [
      "0\n",
      "1\n",
      "2\n",
      "3\n",
      "4\n",
      "5\n"
     ]
    }
   ],
   "source": [
    "path = r'C:\\Users\\Public\\Documents\\HRS\\28.11'\n",
    "beginning_of_name_EL = '\\Feature matrix EL no noise'\n",
    "beginning_of_name_EL_OM = '\\Feature matrix EL+OM no noise'\n",
    "end_of_name = 'peaks.csv'\n",
    "list_of_names = [' 3 ', ' 4 ', ' 5 ', ' no 72_F75 3 ', ' no 72_F75 4 ',  ' no 72_F75 5 ']\n",
    "param_grid = {'C': [1,5,10,12,15,17,18,19,20,21,22,23, 25]}\n",
    "cv = 3\n",
    "acc = np.zeros((6,3)) # list of accuracies, shape list_of_names*3\n",
    "f1 = np.zeros((6,3)) # list of f1_scores, shape list_of_names*3\n",
    "for i in range(len(list_of_names)):\n",
    "    data = pd.read_csv(path + beginning_of_name_EL + list_of_names[i] + end_of_name)\n",
    "    data1 = pd.read_csv(path + beginning_of_name_EL_OM + list_of_names[i] + end_of_name)\n",
    "    print(i)\n",
    "    \n",
    "    X = data.drop('target', 1) #full of EL data ~ 900 sequencies\n",
    "    y = data['target']\n",
    "\n",
    "    X1 = data1.drop('target', 1) #full of OM data ~ 200 sequencies\n",
    "    y1 = data1['target']\n",
    "\n",
    "    X2 = data.drop('target', 1)[:np.shape(y1)[0]] #cutted EL data to the size of OM data ~ 200 sequencies\n",
    "    y2 = data['target'][:np.shape(y1)[0]]\n",
    "\n",
    "    (X_train, X_test, y_train, y_test) = train_test_split(X, y, test_size=0.3, stratify=y)\n",
    "    encoder = StandardScaler()\n",
    "    X_train_scaled = encoder.fit_transform(X_train)\n",
    "    X_test_scaled = encoder.fit_transform(X_test)\n",
    "\n",
    "    (X_train_1, X_test_1, y_train_1, y_test_1) = train_test_split(X1, y1, test_size=0.3, stratify=y1)\n",
    "    encoder = StandardScaler()\n",
    "    X_train_scaled_1 = encoder.fit_transform(X_train_1)\n",
    "    X_test_scaled_1 = encoder.fit_transform(X_test_1)\n",
    "\n",
    "    (X_train_2, X_test_2, y_train_2, y_test_2) = train_test_split(X2, y2, test_size=0.3, stratify=y2)\n",
    "    encoder = StandardScaler()\n",
    "    X_train_scaled_2 = encoder.fit_transform(X_train_2)\n",
    "    X_test_scaled_2 = encoder.fit_transform(X_test_2)\n",
    "\n",
    "    model = LogisticRegression(class_weight='balanced')\n",
    "    optimizer = GridSearchCV(model, param_grid, cv=cv)\n",
    "    optimizer.fit(X_train_scaled, y_train)\n",
    "\n",
    "    model1 = LogisticRegression(class_weight='balanced')\n",
    "    optimizer1 = GridSearchCV(model1, param_grid, cv=cv)\n",
    "    optimizer1.fit(X_train_scaled_1, y_train_1)\n",
    "\n",
    "    model2 = LogisticRegression(class_weight='balanced')\n",
    "    optimizer2 = GridSearchCV(model2, param_grid, cv=cv)\n",
    "    optimizer2.fit(X_train_scaled_2, y_train_2)\n",
    "    \n",
    "#     acc[i][0]= (accuracy_score(y_test, optimizer.best_estimator_.predict(X_test_scaled)) * 100.0)\n",
    "#     acc[i][1]= (accuracy_score(y_test, optimizer.best_estimator_.predict(X_test_scaled_1)) * 100.0)\n",
    "#     acc[i][2]= (accuracy_score(y_test, optimizer.best_estimator_.predict(X_test_scaled_2)) * 100.0)\n",
    "    \n",
    "    f1[i][0]= f1_score(y_test, optimizer.best_estimator_.predict(X_test_scaled), average ='weighted')\n",
    "    f1[i][1]= f1_score(y_test_1, optimizer1.best_estimator_.predict(X_test_scaled_1), average ='weighted')\n",
    "    f1[i][2]= f1_score(y_test_2, optimizer2.best_estimator_.predict(X_test_scaled_2), average ='weighted')"
   ]
  },
  {
   "cell_type": "code",
   "execution_count": 9,
   "metadata": {},
   "outputs": [
    {
     "data": {
      "text/plain": [
       "array([[0.9960842 , 0.98733499, 0.9626129 ],\n",
       "       [0.98853963, 0.98700892, 0.98730966],\n",
       "       [1.        , 0.97364354, 0.98730966],\n",
       "       [0.97831229, 0.98647901, 0.91780822],\n",
       "       [0.96891125, 0.98647901, 0.96011001],\n",
       "       [0.96755302, 0.98647901, 0.93351669]])"
      ]
     },
     "execution_count": 9,
     "metadata": {},
     "output_type": "execute_result"
    }
   ],
   "source": [
    "f1"
   ]
  },
  {
   "cell_type": "code",
   "execution_count": 12,
   "metadata": {},
   "outputs": [
    {
     "data": {
      "text/plain": [
       "array([[0.97734142, 0.98733499, 1.        ],\n",
       "       [0.97549687, 0.96200496, 0.98730966],\n",
       "       [0.98853963, 1.        , 1.        ],\n",
       "       [0.97947421, 0.98647901, 0.94725336],\n",
       "       [0.96891125, 1.        , 0.98644831],\n",
       "       [0.9682725 , 1.        , 0.95934493]])"
      ]
     },
     "execution_count": 12,
     "metadata": {},
     "output_type": "execute_result"
    }
   ],
   "source": [
    "f1"
   ]
  },
  {
   "cell_type": "code",
   "execution_count": 15,
   "metadata": {},
   "outputs": [
    {
     "data": {
      "text/plain": [
       "(91     0.0\n",
       " 213    0.0\n",
       " 74     0.0\n",
       " 176    0.0\n",
       " 46     0.0\n",
       " 198    0.0\n",
       " 236    0.0\n",
       " 76     0.0\n",
       " 159    0.0\n",
       " 61     0.0\n",
       " 81     0.0\n",
       " 27     1.0\n",
       " 199    0.0\n",
       " 171    0.0\n",
       " 28     1.0\n",
       " 146    0.0\n",
       " 157    0.0\n",
       " 151    0.0\n",
       " 105    0.0\n",
       " 106    0.0\n",
       " 233    0.0\n",
       " 55     0.0\n",
       " 19     1.0\n",
       " 36     1.0\n",
       " 43     1.0\n",
       " 107    0.0\n",
       " 120    0.0\n",
       " 158    0.0\n",
       " 239    0.0\n",
       " 66     0.0\n",
       "       ... \n",
       " 83     0.0\n",
       " 112    0.0\n",
       " 197    0.0\n",
       " 56     0.0\n",
       " 148    0.0\n",
       " 72     0.0\n",
       " 193    0.0\n",
       " 57     0.0\n",
       " 42     1.0\n",
       " 6      1.0\n",
       " 33     1.0\n",
       " 138    0.0\n",
       " 88     0.0\n",
       " 122    0.0\n",
       " 52     0.0\n",
       " 217    0.0\n",
       " 189    0.0\n",
       " 182    0.0\n",
       " 150    0.0\n",
       " 45     0.0\n",
       " 211    0.0\n",
       " 35     1.0\n",
       " 235    0.0\n",
       " 23     1.0\n",
       " 237    0.0\n",
       " 152    0.0\n",
       " 118    0.0\n",
       " 220    0.0\n",
       " 54     0.0\n",
       " 208    0.0\n",
       " Name: target, Length: 73, dtype: float64,\n",
       " array([0., 0., 0., 0., 0., 0., 0., 0., 0., 0., 1., 0., 0., 0., 0., 0., 0.,\n",
       "        0., 0., 0., 0., 0., 0., 0., 0., 0., 0., 0., 0., 1., 0., 1., 0., 0.,\n",
       "        0., 0., 0., 0., 0., 0., 0., 0., 0., 0., 0., 0., 0., 0., 0., 0., 0.,\n",
       "        0., 0., 0., 0., 0., 0., 0., 1., 0., 0., 0., 0., 0., 0., 0., 0., 0.,\n",
       "        0., 0., 0., 0., 1., 0., 0., 0., 0., 0., 0., 0., 0., 0., 0., 0., 0.,\n",
       "        1., 0., 0., 1., 0., 0., 0., 1., 0., 0., 0., 0., 0., 0., 0., 0., 0.,\n",
       "        0., 0., 1., 0., 0., 1., 0., 0., 0., 0., 0., 0., 0., 0., 1., 0., 0.,\n",
       "        0., 0., 0., 0., 0., 0., 0., 0., 0., 0., 0., 1., 0., 0., 0., 0., 0.,\n",
       "        0., 0., 0., 0., 0., 0., 0., 0., 0., 0., 0., 0., 0., 0., 0., 0., 0.,\n",
       "        0., 0., 0., 0., 0., 0., 0., 0., 0., 1., 0., 0., 0., 0., 0., 1., 0.,\n",
       "        0., 1., 0., 1., 0., 0., 0., 0., 0., 0., 0., 0., 0., 0., 0., 0., 0.,\n",
       "        1., 0., 0., 0., 0., 0., 1., 0., 0., 0., 0., 0., 0., 0., 1., 0., 0.,\n",
       "        0., 0., 0., 0., 0., 0., 0., 1., 0., 0., 0., 0., 0., 0., 0., 0., 1.,\n",
       "        0., 0., 0., 0., 0., 0., 0., 1., 0., 0., 0., 0., 0.]))"
      ]
     },
     "execution_count": 15,
     "metadata": {},
     "output_type": "execute_result"
    }
   ],
   "source": [
    "y_test_1, optimizer.best_estimator_.predict(X_test_scaled)"
   ]
  },
  {
   "cell_type": "code",
   "execution_count": 14,
   "metadata": {},
   "outputs": [
    {
     "data": {
      "text/plain": [
       "array([0., 0., 0., 0., 0., 0., 0., 0., 0., 0., 1., 0., 0., 0., 0., 0., 0.,\n",
       "       0., 0., 0., 0., 0., 0., 0., 0., 0., 0., 0., 0., 1., 0., 1., 0., 0.,\n",
       "       0., 0., 0., 0., 0., 0., 0., 0., 0., 0., 0., 0., 0., 0., 0., 0., 0.,\n",
       "       0., 0., 0., 0., 0., 0., 0., 1., 0., 0., 0., 0., 0., 0., 0., 0., 0.,\n",
       "       0., 0., 0., 0., 1., 0., 0., 0., 0., 0., 0., 0., 0., 0., 0., 0., 0.,\n",
       "       1., 0., 0., 1., 0., 0., 0., 1., 0., 0., 0., 0., 0., 0., 0., 0., 0.,\n",
       "       0., 0., 1., 0., 0., 1., 0., 0., 0., 0., 0., 0., 0., 0., 1., 0., 0.,\n",
       "       0., 0., 0., 0., 0., 0., 0., 0., 0., 0., 0., 1., 0., 0., 0., 0., 0.,\n",
       "       0., 0., 0., 0., 0., 0., 0., 0., 0., 0., 0., 0., 0., 0., 0., 0., 0.,\n",
       "       0., 0., 0., 0., 0., 0., 0., 0., 0., 1., 0., 0., 0., 0., 0., 1., 0.,\n",
       "       0., 1., 0., 1., 0., 0., 0., 0., 0., 0., 0., 0., 0., 0., 0., 0., 0.,\n",
       "       1., 0., 0., 0., 0., 0., 1., 0., 0., 0., 0., 0., 0., 0., 1., 0., 0.,\n",
       "       0., 0., 0., 0., 0., 0., 0., 1., 0., 0., 0., 0., 0., 0., 0., 0., 1.,\n",
       "       0., 0., 0., 0., 0., 0., 0., 1., 0., 0., 0., 0., 0.])"
      ]
     },
     "execution_count": 14,
     "metadata": {},
     "output_type": "execute_result"
    }
   ],
   "source": [
    "optimizer.best_estimator_.predict(X_test_scaled)"
   ]
  }
 ],
 "metadata": {
  "kernelspec": {
   "display_name": "Python 3",
   "language": "python",
   "name": "python3"
  },
  "language_info": {
   "codemirror_mode": {
    "name": "ipython",
    "version": 3
   },
   "file_extension": ".py",
   "mimetype": "text/x-python",
   "name": "python",
   "nbconvert_exporter": "python",
   "pygments_lexer": "ipython3",
   "version": "3.6.5"
  }
 },
 "nbformat": 4,
 "nbformat_minor": 2
}
