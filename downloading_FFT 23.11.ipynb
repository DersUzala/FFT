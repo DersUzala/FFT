{
 "cells": [
  {
   "cell_type": "code",
   "execution_count": 21,
   "metadata": {},
   "outputs": [],
   "source": [
    "import pandas as pd\n",
    "import matplotlib.pyplot as plt\n",
    "import seaborn as sns\n",
    "import numpy as np\n",
    "\n",
    "import os\n",
    "import glob\n",
    "\n",
    "from tqdm import tqdm\n",
    "from PIL import Image\n",
    "from IPython import display\n",
    "%matplotlib inline"
   ]
  },
  {
   "cell_type": "markdown",
   "metadata": {},
   "source": [
    "Upload the data"
   ]
  },
  {
   "cell_type": "code",
   "execution_count": 4,
   "metadata": {},
   "outputs": [
    {
     "data": {
      "text/plain": [
       "['H72_F75_Electrode_KH_OM_KH.csv',\n",
       " 'H79_F108_csv_annot_OM_KH.csv',\n",
       " 'H79_F125_csv_annot MISSING H8_OM_KH.csv',\n",
       " 'H81_F158_csv_annot_KH.csv',\n",
       " 'H81_F171_csv_annot_OM_KH.csv',\n",
       " 'H82_F111_csv_annot_OM_KH.csv',\n",
       " 'H96_F61_csv_annot_OM_KH.csv',\n",
       " 'H96_F88_csv_annot_OM_KH.csv']"
      ]
     },
     "execution_count": 4,
     "metadata": {},
     "output_type": "execute_result"
    }
   ],
   "source": [
    "path = r'C:\\Users\\ecath\\Desktop\\Research\\Raw Data\\Ex Vivo CSV Files'\n",
    "os.listdir(path)"
   ]
  },
  {
   "cell_type": "code",
   "execution_count": 5,
   "metadata": {},
   "outputs": [
    {
     "name": "stdout",
     "output_type": "stream",
     "text": [
      "C:\\Users\\ecath\\Desktop\\Research\\Raw Data\\Ex Vivo CSV Files\\H72_F75_Electrode_KH_OM_KH.csv (12207, 384)\n",
      "C:\\Users\\ecath\\Desktop\\Research\\Raw Data\\Ex Vivo CSV Files\\H79_F108_csv_annot_OM_KH.csv (8270, 384)\n",
      "C:\\Users\\ecath\\Desktop\\Research\\Raw Data\\Ex Vivo CSV Files\\H79_F125_csv_annot MISSING H8_OM_KH.csv (8775, 384)\n",
      "C:\\Users\\ecath\\Desktop\\Research\\Raw Data\\Ex Vivo CSV Files\\H81_F158_csv_annot_KH.csv (8138, 384)\n",
      "C:\\Users\\ecath\\Desktop\\Research\\Raw Data\\Ex Vivo CSV Files\\H81_F171_csv_annot_OM_KH.csv (10173, 384)\n",
      "C:\\Users\\ecath\\Desktop\\Research\\Raw Data\\Ex Vivo CSV Files\\H82_F111_csv_annot_OM_KH.csv (10173, 384)\n",
      "C:\\Users\\ecath\\Desktop\\Research\\Raw Data\\Ex Vivo CSV Files\\H96_F61_csv_annot_OM_KH.csv (8191, 384)\n",
      "C:\\Users\\ecath\\Desktop\\Research\\Raw Data\\Ex Vivo CSV Files\\H96_F88_csv_annot_OM_KH.csv (8191, 384)\n"
     ]
    }
   ],
   "source": [
    "data_list = []\n",
    "for filename in glob.glob(os.path.join(path, '*.csv')):\n",
    "    data = pd.read_csv(filename, header=0)\n",
    "    print(filename, data.shape)\n",
    "    data_list.append(data)"
   ]
  },
  {
   "cell_type": "code",
   "execution_count": 6,
   "metadata": {},
   "outputs": [],
   "source": [
    "drivers = []\n",
    "nondrivers = []\n",
    "noises = []\n",
    "\n",
    "for df in data_list:\n",
    "    driver = pd.DataFrame()\n",
    "    nondriver = pd.DataFrame()\n",
    "    noise = pd.DataFrame()\n",
    "    for col in df.columns[1::3]:\n",
    "        curr_index = list(df.columns).index(col)\n",
    "        prev_index = curr_index - 1\n",
    "        next_index = curr_index + 1\n",
    "        prev_col = df.iloc[:,prev_index]\n",
    "        next_col = df.iloc[:,next_index]\n",
    "        if df[col][0] == 1:\n",
    "            driver[df.columns[prev_index]] = prev_col\n",
    "            driver[df.columns[next_index]] = next_col\n",
    "        elif df[col][0] == 0:\n",
    "            nondriver[df.columns[prev_index]] = prev_col\n",
    "            nondriver[df.columns[next_index]] = next_col\n",
    "        elif df[col][0] == -1:\n",
    "            noise[df.columns[prev_index]] = prev_col\n",
    "            noise[df.columns[next_index]] = next_col\n",
    "    drivers.append(driver)\n",
    "    nondrivers.append(nondriver)\n",
    "    noises.append(noise)"
   ]
  },
  {
   "cell_type": "markdown",
   "metadata": {},
   "source": [
    "# Fourier transform"
   ]
  },
  {
   "cell_type": "code",
   "execution_count": 7,
   "metadata": {},
   "outputs": [],
   "source": [
    "# function that delete NaN and fully zero columns\n",
    "def del_nul_and_nan(df):\n",
    "    \n",
    "    df.fillna(value=0, axis=1, inplace=True)\n",
    "    \n",
    "    for col in df.columns:\n",
    "        if df[col].sum() == 0:\n",
    "            df.drop([col], axis = 1, inplace = True)  \n",
    "    \n",
    "    return df"
   ]
  },
  {
   "cell_type": "code",
   "execution_count": 8,
   "metadata": {},
   "outputs": [],
   "source": [
    "#create DataFrame with signal spectrum cutted on 20Hz for one dataframe from one class\n",
    "\n",
    "def concat_fft(df, N, T):\n",
    "    \n",
    "    fft_out = pd.DataFrame()\n",
    "    \n",
    "    for col in df.columns:\n",
    "        fft_yf = np.fft.fft(df[col]) #spectrum\n",
    "        fft_xf = np.fft.fftfreq(N, T) #frequencies\n",
    "        \n",
    "        fft_20_index = np.argwhere((fft_xf<20) & (fft_xf>0))        \n",
    "        fft_yf_20 = fft_yf[fft_20_index] #cutting on 20Hz\n",
    "        fft_xf_20 = fft_xf[fft_20_index]#cutting on 20Hz\n",
    "        \n",
    "        fft_yf_20 = pd.DataFrame(np.abs(fft_yf_20)/N, columns=[col + '_yf'])\n",
    "        fft_xf_20 = pd.DataFrame(fft_xf_20, columns=[col + '_xf']) \n",
    "\n",
    "        fft_out = pd.concat([fft_out, fft_yf_20, fft_xf_20], axis=1)\n",
    "        \n",
    "    return(fft_out)"
   ]
  },
  {
   "cell_type": "code",
   "execution_count": 9,
   "metadata": {},
   "outputs": [],
   "source": [
    "def full_fft_list(class_df):\n",
    "    \n",
    "    all_fft_el = []\n",
    "    all_fft_om = []\n",
    "\n",
    "    for k, df in enumerate(class_df):\n",
    "\n",
    "        electrode_signal = df[df.columns[::2]]\n",
    "        optical_signal = df[df.columns[1::2]]\n",
    "\n",
    "        electrode_signal = del_nul_and_nan(electrode_signal)\n",
    "        optical_signal = del_nul_and_nan(optical_signal)        \n",
    "\n",
    "        N = df.shape[0] # Number of sample points\n",
    "        Fs_el = 1017.25 # sampling rate\n",
    "        Fs_om = 1000.0\n",
    "        T_el = 1.0/Fs_el\n",
    "        T_om = 1.0/Fs_om\n",
    "\n",
    "        fft_el = concat_fft(electrode_signal, N, T_el)\n",
    "        all_fft_el.append(fft_el)\n",
    "\n",
    "        fft_om = concat_fft(optical_signal, N, T_om)\n",
    "        all_fft_om.append(fft_om)\n",
    "        \n",
    "    return(all_fft_el, all_fft_om)"
   ]
  },
  {
   "cell_type": "code",
   "execution_count": 10,
   "metadata": {},
   "outputs": [],
   "source": [
    "def fft_creation_el(dataframe, label):\n",
    "    \n",
    "    all_fft_el, _ = full_fft_list(dataframe)\n",
    "    \n",
    "#     m = []\n",
    "    \n",
    "#     for i in range(len(all_fft_el)):\n",
    "#         m.append(all_fft_el[i].shape[0])\n",
    "\n",
    "    for i in range(len(all_fft_el)):\n",
    "#         mx = np.max(m) - all_fft_el[i].shape[0]\n",
    "        \n",
    "#         zeros = np.zeros(shape=(mx, all_fft_el[i].shape[1]))\n",
    "#         zeros = pd.DataFrame(zeros, columns=all_fft_el[i].columns, index=np.arange(all_fft_el[i].shape[0], np.max(m)))\n",
    "        \n",
    "#         all_fft_el[i] = all_fft_el[i].append(zeros)\n",
    "        \n",
    "        target = np.full(shape=(1, all_fft_el[i].shape[1]), fill_value = label)\n",
    "        target = pd.DataFrame(target, columns=all_fft_el[i].columns, index=['target'])\n",
    "\n",
    "        all_fft_el[i] = all_fft_el[i].append(target)\n",
    "    \n",
    "    all_fft = pd.DataFrame()\n",
    "    \n",
    "    for i in range(len(all_fft_el)):\n",
    "        all_fft = pd.concat([all_fft, all_fft_el[i]], axis=1)\n",
    "\n",
    "    return(all_fft)"
   ]
  },
  {
   "cell_type": "code",
   "execution_count": 11,
   "metadata": {},
   "outputs": [],
   "source": [
    "def fft_creation_om(dataframe, label):\n",
    "   \n",
    "    _, all_fft_om = full_fft_list(dataframe)\n",
    "    \n",
    "#     m = []\n",
    "    \n",
    "#     for i in range(len(all_fft_om)):\n",
    "#         m.append(all_fft_om[i].shape[0])\n",
    "\n",
    "    for i in tqdm(range(len(all_fft_om))):\n",
    "#         mx = np.max(m) - all_fft_om[i].shape[0]\n",
    "\n",
    "#         zeros = np.zeros(shape=(mx, all_fft_om[i].shape[1]))\n",
    "#         zeros = pd.DataFrame(zeros, columns=all_fft_om[i].columns, index=np.arange(all_fft_om[i].shape[0], np.max(m)))\n",
    "        \n",
    "#         all_fft_om[i] = all_fft_om[i].append(zeros)\n",
    "\n",
    "        target = np.full(shape=(1, all_fft_om[i].shape[1]), fill_value = label)\n",
    "        target = pd.DataFrame(target, columns=all_fft_om[i].columns, index=['target'])\n",
    "\n",
    "        all_fft_om[i] = all_fft_om[i].append(target)\n",
    "    \n",
    "    all_fft = pd.DataFrame()\n",
    "    \n",
    "    for i in range(len(all_fft_om)):\n",
    "        all_fft = pd.concat([all_fft, all_fft_om[i]], axis=1)\n",
    "\n",
    "    return(all_fft)"
   ]
  },
  {
   "cell_type": "code",
   "execution_count": 12,
   "metadata": {},
   "outputs": [],
   "source": [
    "path = r'C:\\Users\\Public\\Documents\\HRS'"
   ]
  },
  {
   "cell_type": "code",
   "execution_count": 13,
   "metadata": {},
   "outputs": [
    {
     "name": "stderr",
     "output_type": "stream",
     "text": [
      "C:\\Users\\ecath\\Anaconda3\\lib\\site-packages\\pandas\\core\\frame.py:3035: SettingWithCopyWarning: \n",
      "A value is trying to be set on a copy of a slice from a DataFrame\n",
      "\n",
      "See the caveats in the documentation: http://pandas.pydata.org/pandas-docs/stable/indexing.html#indexing-view-versus-copy\n",
      "  downcast=downcast, **kwargs)\n",
      "C:\\Users\\ecath\\Anaconda3\\lib\\site-packages\\ipykernel_launcher.py:8: SettingWithCopyWarning: \n",
      "A value is trying to be set on a copy of a slice from a DataFrame\n",
      "\n",
      "See the caveats in the documentation: http://pandas.pydata.org/pandas-docs/stable/indexing.html#indexing-view-versus-copy\n",
      "  \n"
     ]
    }
   ],
   "source": [
    "a = fft_creation_el(drivers, 1)\n",
    "b = fft_creation_el(nondrivers, 0)\n",
    "c = fft_creation_el(noises, -1) \n",
    "\n",
    "final = pd.concat([a, b, c], axis=1)\n",
    "final.fillna(value=0, axis=1, inplace=True)\n",
    "final.to_csv(path + '\\All FFT of electrode signal.csv', sep=',', index=True)"
   ]
  },
  {
   "cell_type": "code",
   "execution_count": 14,
   "metadata": {},
   "outputs": [
    {
     "name": "stderr",
     "output_type": "stream",
     "text": [
      "C:\\Users\\ecath\\Anaconda3\\lib\\site-packages\\pandas\\core\\frame.py:3035: SettingWithCopyWarning: \n",
      "A value is trying to be set on a copy of a slice from a DataFrame\n",
      "\n",
      "See the caveats in the documentation: http://pandas.pydata.org/pandas-docs/stable/indexing.html#indexing-view-versus-copy\n",
      "  downcast=downcast, **kwargs)\n",
      "C:\\Users\\ecath\\Anaconda3\\lib\\site-packages\\ipykernel_launcher.py:8: SettingWithCopyWarning: \n",
      "A value is trying to be set on a copy of a slice from a DataFrame\n",
      "\n",
      "See the caveats in the documentation: http://pandas.pydata.org/pandas-docs/stable/indexing.html#indexing-view-versus-copy\n",
      "  \n"
     ]
    }
   ],
   "source": [
    "a = fft_creation_om(drivers, 1)\n",
    "b = fft_creation_om(nondrivers, 0)\n",
    "c = fft_creation_om(noises, -1) \n",
    "\n",
    "final = pd.concat([a, b, c], axis=1)\n",
    "final.fillna(value=0, axis=1, inplace=True)\n",
    "final.to_csv(path + '\\All FFT of optical signal.csv', sep=',', index=True)"
   ]
  },
  {
   "cell_type": "code",
   "execution_count": 15,
   "metadata": {},
   "outputs": [
    {
     "data": {
      "text/plain": [
       "0"
      ]
     },
     "execution_count": 15,
     "metadata": {},
     "output_type": "execute_result"
    }
   ],
   "source": [
    "x = pd.read_csv(path + '\\All FFT of electrode signal.csv', index_col=0)\n",
    "x.isna().sum().sum()"
   ]
  },
  {
   "cell_type": "code",
   "execution_count": 16,
   "metadata": {},
   "outputs": [
    {
     "data": {
      "text/html": [
       "<div>\n",
       "<style scoped>\n",
       "    .dataframe tbody tr th:only-of-type {\n",
       "        vertical-align: middle;\n",
       "    }\n",
       "\n",
       "    .dataframe tbody tr th {\n",
       "        vertical-align: top;\n",
       "    }\n",
       "\n",
       "    .dataframe thead th {\n",
       "        text-align: right;\n",
       "    }\n",
       "</style>\n",
       "<table border=\"1\" class=\"dataframe\">\n",
       "  <thead>\n",
       "    <tr style=\"text-align: right;\">\n",
       "      <th></th>\n",
       "      <th>Bsk 2 C7_yf</th>\n",
       "      <th>Bsk 2 C7_xf</th>\n",
       "      <th>Bsk 2 C8_yf</th>\n",
       "      <th>Bsk 2 C8_xf</th>\n",
       "      <th>Bsk 2 D7_yf</th>\n",
       "      <th>Bsk 2 D7_xf</th>\n",
       "      <th>Bsk 2 D8_yf</th>\n",
       "      <th>Bsk 2 D8_xf</th>\n",
       "      <th>Bsk 1 B5_yf</th>\n",
       "      <th>Bsk 1 B5_xf</th>\n",
       "      <th>...</th>\n",
       "      <th>Bsk 2 B1_yf.7</th>\n",
       "      <th>Bsk 2 B1_xf.7</th>\n",
       "      <th>Bsk 2 D8_yf.7</th>\n",
       "      <th>Bsk 2 D8_xf.7</th>\n",
       "      <th>Bsk 2 E4_yf.7</th>\n",
       "      <th>Bsk 2 E4_xf.7</th>\n",
       "      <th>Bsk 2 E8_yf.7</th>\n",
       "      <th>Bsk 2 E8_xf.7</th>\n",
       "      <th>Bsk 2 H1_yf.7</th>\n",
       "      <th>Bsk 2 H1_xf.7</th>\n",
       "    </tr>\n",
       "  </thead>\n",
       "  <tbody>\n",
       "    <tr>\n",
       "      <th>0</th>\n",
       "      <td>0.000038</td>\n",
       "      <td>0.083333</td>\n",
       "      <td>0.000234</td>\n",
       "      <td>0.083333</td>\n",
       "      <td>0.000036</td>\n",
       "      <td>0.083333</td>\n",
       "      <td>0.000009</td>\n",
       "      <td>0.083333</td>\n",
       "      <td>0.003676</td>\n",
       "      <td>0.123005</td>\n",
       "      <td>...</td>\n",
       "      <td>0.163531</td>\n",
       "      <td>0.124191</td>\n",
       "      <td>0.015161</td>\n",
       "      <td>0.124191</td>\n",
       "      <td>0.163531</td>\n",
       "      <td>0.124191</td>\n",
       "      <td>0.174937</td>\n",
       "      <td>0.124191</td>\n",
       "      <td>0.005133</td>\n",
       "      <td>0.124191</td>\n",
       "    </tr>\n",
       "    <tr>\n",
       "      <th>1</th>\n",
       "      <td>0.000119</td>\n",
       "      <td>0.166667</td>\n",
       "      <td>0.000264</td>\n",
       "      <td>0.166667</td>\n",
       "      <td>0.000083</td>\n",
       "      <td>0.166667</td>\n",
       "      <td>0.000109</td>\n",
       "      <td>0.166667</td>\n",
       "      <td>0.004131</td>\n",
       "      <td>0.246010</td>\n",
       "      <td>...</td>\n",
       "      <td>0.332943</td>\n",
       "      <td>0.248382</td>\n",
       "      <td>0.005103</td>\n",
       "      <td>0.248382</td>\n",
       "      <td>0.332943</td>\n",
       "      <td>0.248382</td>\n",
       "      <td>0.090954</td>\n",
       "      <td>0.248382</td>\n",
       "      <td>0.010846</td>\n",
       "      <td>0.248382</td>\n",
       "    </tr>\n",
       "    <tr>\n",
       "      <th>2</th>\n",
       "      <td>0.000110</td>\n",
       "      <td>0.250000</td>\n",
       "      <td>0.000114</td>\n",
       "      <td>0.250000</td>\n",
       "      <td>0.000039</td>\n",
       "      <td>0.250000</td>\n",
       "      <td>0.000263</td>\n",
       "      <td>0.250000</td>\n",
       "      <td>0.005600</td>\n",
       "      <td>0.369015</td>\n",
       "      <td>...</td>\n",
       "      <td>0.279882</td>\n",
       "      <td>0.372574</td>\n",
       "      <td>0.010364</td>\n",
       "      <td>0.372574</td>\n",
       "      <td>0.279882</td>\n",
       "      <td>0.372574</td>\n",
       "      <td>0.054596</td>\n",
       "      <td>0.372574</td>\n",
       "      <td>0.008391</td>\n",
       "      <td>0.372574</td>\n",
       "    </tr>\n",
       "    <tr>\n",
       "      <th>3</th>\n",
       "      <td>0.000127</td>\n",
       "      <td>0.333333</td>\n",
       "      <td>0.000247</td>\n",
       "      <td>0.333333</td>\n",
       "      <td>0.000130</td>\n",
       "      <td>0.333333</td>\n",
       "      <td>0.000019</td>\n",
       "      <td>0.333333</td>\n",
       "      <td>0.004800</td>\n",
       "      <td>0.492019</td>\n",
       "      <td>...</td>\n",
       "      <td>0.184102</td>\n",
       "      <td>0.496765</td>\n",
       "      <td>0.011126</td>\n",
       "      <td>0.496765</td>\n",
       "      <td>0.184102</td>\n",
       "      <td>0.496765</td>\n",
       "      <td>0.029990</td>\n",
       "      <td>0.496765</td>\n",
       "      <td>0.006837</td>\n",
       "      <td>0.496765</td>\n",
       "    </tr>\n",
       "    <tr>\n",
       "      <th>4</th>\n",
       "      <td>0.000197</td>\n",
       "      <td>0.416667</td>\n",
       "      <td>0.000304</td>\n",
       "      <td>0.416667</td>\n",
       "      <td>0.000129</td>\n",
       "      <td>0.416667</td>\n",
       "      <td>0.000499</td>\n",
       "      <td>0.416667</td>\n",
       "      <td>0.007835</td>\n",
       "      <td>0.615024</td>\n",
       "      <td>...</td>\n",
       "      <td>0.168682</td>\n",
       "      <td>0.620956</td>\n",
       "      <td>0.005592</td>\n",
       "      <td>0.620956</td>\n",
       "      <td>0.168682</td>\n",
       "      <td>0.620956</td>\n",
       "      <td>0.036027</td>\n",
       "      <td>0.620956</td>\n",
       "      <td>0.005084</td>\n",
       "      <td>0.620956</td>\n",
       "    </tr>\n",
       "  </tbody>\n",
       "</table>\n",
       "<p>5 rows × 1918 columns</p>\n",
       "</div>"
      ],
      "text/plain": [
       "   Bsk 2 C7_yf  Bsk 2 C7_xf  Bsk 2 C8_yf  Bsk 2 C8_xf  Bsk 2 D7_yf  \\\n",
       "0     0.000038     0.083333     0.000234     0.083333     0.000036   \n",
       "1     0.000119     0.166667     0.000264     0.166667     0.000083   \n",
       "2     0.000110     0.250000     0.000114     0.250000     0.000039   \n",
       "3     0.000127     0.333333     0.000247     0.333333     0.000130   \n",
       "4     0.000197     0.416667     0.000304     0.416667     0.000129   \n",
       "\n",
       "   Bsk 2 D7_xf  Bsk 2 D8_yf  Bsk 2 D8_xf  Bsk 1 B5_yf  Bsk 1 B5_xf  \\\n",
       "0     0.083333     0.000009     0.083333     0.003676     0.123005   \n",
       "1     0.166667     0.000109     0.166667     0.004131     0.246010   \n",
       "2     0.250000     0.000263     0.250000     0.005600     0.369015   \n",
       "3     0.333333     0.000019     0.333333     0.004800     0.492019   \n",
       "4     0.416667     0.000499     0.416667     0.007835     0.615024   \n",
       "\n",
       "       ...        Bsk 2 B1_yf.7  Bsk 2 B1_xf.7  Bsk 2 D8_yf.7  Bsk 2 D8_xf.7  \\\n",
       "0      ...             0.163531       0.124191       0.015161       0.124191   \n",
       "1      ...             0.332943       0.248382       0.005103       0.248382   \n",
       "2      ...             0.279882       0.372574       0.010364       0.372574   \n",
       "3      ...             0.184102       0.496765       0.011126       0.496765   \n",
       "4      ...             0.168682       0.620956       0.005592       0.620956   \n",
       "\n",
       "   Bsk 2 E4_yf.7  Bsk 2 E4_xf.7  Bsk 2 E8_yf.7  Bsk 2 E8_xf.7  Bsk 2 H1_yf.7  \\\n",
       "0       0.163531       0.124191       0.174937       0.124191       0.005133   \n",
       "1       0.332943       0.248382       0.090954       0.248382       0.010846   \n",
       "2       0.279882       0.372574       0.054596       0.372574       0.008391   \n",
       "3       0.184102       0.496765       0.029990       0.496765       0.006837   \n",
       "4       0.168682       0.620956       0.036027       0.620956       0.005084   \n",
       "\n",
       "   Bsk 2 H1_xf.7  \n",
       "0       0.124191  \n",
       "1       0.248382  \n",
       "2       0.372574  \n",
       "3       0.496765  \n",
       "4       0.620956  \n",
       "\n",
       "[5 rows x 1918 columns]"
      ]
     },
     "execution_count": 16,
     "metadata": {},
     "output_type": "execute_result"
    }
   ],
   "source": [
    "x.head()"
   ]
  },
  {
   "cell_type": "code",
   "execution_count": 17,
   "metadata": {},
   "outputs": [
    {
     "data": {
      "text/plain": [
       "(240, 1918)"
      ]
     },
     "execution_count": 17,
     "metadata": {},
     "output_type": "execute_result"
    }
   ],
   "source": [
    "x.shape"
   ]
  },
  {
   "cell_type": "code",
   "execution_count": 18,
   "metadata": {},
   "outputs": [
    {
     "data": {
      "text/plain": [
       "0"
      ]
     },
     "execution_count": 18,
     "metadata": {},
     "output_type": "execute_result"
    }
   ],
   "source": [
    "y = pd.read_csv(path + '\\All FFT of optical signal.csv', index_col=0)\n",
    "y.isna().sum().sum()"
   ]
  },
  {
   "cell_type": "code",
   "execution_count": 19,
   "metadata": {},
   "outputs": [
    {
     "data": {
      "text/plain": [
       "(245, 558)"
      ]
     },
     "execution_count": 19,
     "metadata": {},
     "output_type": "execute_result"
    }
   ],
   "source": [
    "y.shape"
   ]
  },
  {
   "cell_type": "code",
   "execution_count": 20,
   "metadata": {},
   "outputs": [
    {
     "data": {
      "text/html": [
       "<div>\n",
       "<style scoped>\n",
       "    .dataframe tbody tr th:only-of-type {\n",
       "        vertical-align: middle;\n",
       "    }\n",
       "\n",
       "    .dataframe tbody tr th {\n",
       "        vertical-align: top;\n",
       "    }\n",
       "\n",
       "    .dataframe thead th {\n",
       "        text-align: right;\n",
       "    }\n",
       "</style>\n",
       "<table border=\"1\" class=\"dataframe\">\n",
       "  <thead>\n",
       "    <tr style=\"text-align: right;\">\n",
       "      <th></th>\n",
       "      <th>Bsk.6_yf</th>\n",
       "      <th>Bsk.6_xf</th>\n",
       "      <th>Bsk.7_yf</th>\n",
       "      <th>Bsk.7_xf</th>\n",
       "      <th>Bsk.10_yf</th>\n",
       "      <th>Bsk.10_xf</th>\n",
       "      <th>Bsk.11_yf</th>\n",
       "      <th>Bsk.11_xf</th>\n",
       "      <th>Bsk.5_yf</th>\n",
       "      <th>Bsk.5_xf</th>\n",
       "      <th>...</th>\n",
       "      <th>Bsk.37_yf.2</th>\n",
       "      <th>Bsk.37_xf.2</th>\n",
       "      <th>Bsk.1_yf.6</th>\n",
       "      <th>Bsk.1_xf.6</th>\n",
       "      <th>Bsk.14_yf.6</th>\n",
       "      <th>Bsk.14_xf.6</th>\n",
       "      <th>Bsk.25_yf.5</th>\n",
       "      <th>Bsk.25_xf.5</th>\n",
       "      <th>Bsk.52_yf.1</th>\n",
       "      <th>Bsk.52_xf.1</th>\n",
       "    </tr>\n",
       "  </thead>\n",
       "  <tbody>\n",
       "    <tr>\n",
       "      <th>0</th>\n",
       "      <td>11.976132</td>\n",
       "      <td>0.081920</td>\n",
       "      <td>12.423180</td>\n",
       "      <td>0.081920</td>\n",
       "      <td>10.575924</td>\n",
       "      <td>0.081920</td>\n",
       "      <td>12.095001</td>\n",
       "      <td>0.081920</td>\n",
       "      <td>12.839804</td>\n",
       "      <td>0.120919</td>\n",
       "      <td>...</td>\n",
       "      <td>4.810478</td>\n",
       "      <td>0.122085</td>\n",
       "      <td>0.920989</td>\n",
       "      <td>0.122085</td>\n",
       "      <td>0.807114</td>\n",
       "      <td>0.122085</td>\n",
       "      <td>0.264397</td>\n",
       "      <td>0.122085</td>\n",
       "      <td>0.513898</td>\n",
       "      <td>0.122085</td>\n",
       "    </tr>\n",
       "    <tr>\n",
       "      <th>1</th>\n",
       "      <td>5.409059</td>\n",
       "      <td>0.163840</td>\n",
       "      <td>4.817525</td>\n",
       "      <td>0.163840</td>\n",
       "      <td>5.048904</td>\n",
       "      <td>0.163840</td>\n",
       "      <td>4.628925</td>\n",
       "      <td>0.163840</td>\n",
       "      <td>0.957991</td>\n",
       "      <td>0.241838</td>\n",
       "      <td>...</td>\n",
       "      <td>2.092321</td>\n",
       "      <td>0.244170</td>\n",
       "      <td>7.269512</td>\n",
       "      <td>0.244170</td>\n",
       "      <td>2.931228</td>\n",
       "      <td>0.244170</td>\n",
       "      <td>2.927410</td>\n",
       "      <td>0.244170</td>\n",
       "      <td>0.880688</td>\n",
       "      <td>0.244170</td>\n",
       "    </tr>\n",
       "    <tr>\n",
       "      <th>2</th>\n",
       "      <td>0.502670</td>\n",
       "      <td>0.245761</td>\n",
       "      <td>0.840267</td>\n",
       "      <td>0.245761</td>\n",
       "      <td>0.292869</td>\n",
       "      <td>0.245761</td>\n",
       "      <td>1.085266</td>\n",
       "      <td>0.245761</td>\n",
       "      <td>4.113641</td>\n",
       "      <td>0.362757</td>\n",
       "      <td>...</td>\n",
       "      <td>1.645176</td>\n",
       "      <td>0.366256</td>\n",
       "      <td>6.706520</td>\n",
       "      <td>0.366256</td>\n",
       "      <td>0.915097</td>\n",
       "      <td>0.366256</td>\n",
       "      <td>1.288707</td>\n",
       "      <td>0.366256</td>\n",
       "      <td>0.191942</td>\n",
       "      <td>0.366256</td>\n",
       "    </tr>\n",
       "    <tr>\n",
       "      <th>3</th>\n",
       "      <td>2.529267</td>\n",
       "      <td>0.327681</td>\n",
       "      <td>1.964417</td>\n",
       "      <td>0.327681</td>\n",
       "      <td>2.270349</td>\n",
       "      <td>0.327681</td>\n",
       "      <td>1.816432</td>\n",
       "      <td>0.327681</td>\n",
       "      <td>0.356292</td>\n",
       "      <td>0.483676</td>\n",
       "      <td>...</td>\n",
       "      <td>0.828475</td>\n",
       "      <td>0.488341</td>\n",
       "      <td>3.413735</td>\n",
       "      <td>0.488341</td>\n",
       "      <td>0.907618</td>\n",
       "      <td>0.488341</td>\n",
       "      <td>0.435907</td>\n",
       "      <td>0.488341</td>\n",
       "      <td>0.266611</td>\n",
       "      <td>0.488341</td>\n",
       "    </tr>\n",
       "    <tr>\n",
       "      <th>4</th>\n",
       "      <td>2.647101</td>\n",
       "      <td>0.409601</td>\n",
       "      <td>3.018245</td>\n",
       "      <td>0.409601</td>\n",
       "      <td>2.237861</td>\n",
       "      <td>0.409601</td>\n",
       "      <td>3.135550</td>\n",
       "      <td>0.409601</td>\n",
       "      <td>2.524654</td>\n",
       "      <td>0.604595</td>\n",
       "      <td>...</td>\n",
       "      <td>0.943501</td>\n",
       "      <td>0.610426</td>\n",
       "      <td>3.705543</td>\n",
       "      <td>0.610426</td>\n",
       "      <td>0.074914</td>\n",
       "      <td>0.610426</td>\n",
       "      <td>0.893366</td>\n",
       "      <td>0.610426</td>\n",
       "      <td>1.008653</td>\n",
       "      <td>0.610426</td>\n",
       "    </tr>\n",
       "  </tbody>\n",
       "</table>\n",
       "<p>5 rows × 558 columns</p>\n",
       "</div>"
      ],
      "text/plain": [
       "    Bsk.6_yf  Bsk.6_xf   Bsk.7_yf  Bsk.7_xf  Bsk.10_yf  Bsk.10_xf  Bsk.11_yf  \\\n",
       "0  11.976132  0.081920  12.423180  0.081920  10.575924   0.081920  12.095001   \n",
       "1   5.409059  0.163840   4.817525  0.163840   5.048904   0.163840   4.628925   \n",
       "2   0.502670  0.245761   0.840267  0.245761   0.292869   0.245761   1.085266   \n",
       "3   2.529267  0.327681   1.964417  0.327681   2.270349   0.327681   1.816432   \n",
       "4   2.647101  0.409601   3.018245  0.409601   2.237861   0.409601   3.135550   \n",
       "\n",
       "   Bsk.11_xf   Bsk.5_yf  Bsk.5_xf     ...       Bsk.37_yf.2  Bsk.37_xf.2  \\\n",
       "0   0.081920  12.839804  0.120919     ...          4.810478     0.122085   \n",
       "1   0.163840   0.957991  0.241838     ...          2.092321     0.244170   \n",
       "2   0.245761   4.113641  0.362757     ...          1.645176     0.366256   \n",
       "3   0.327681   0.356292  0.483676     ...          0.828475     0.488341   \n",
       "4   0.409601   2.524654  0.604595     ...          0.943501     0.610426   \n",
       "\n",
       "   Bsk.1_yf.6  Bsk.1_xf.6  Bsk.14_yf.6  Bsk.14_xf.6  Bsk.25_yf.5  Bsk.25_xf.5  \\\n",
       "0    0.920989    0.122085     0.807114     0.122085     0.264397     0.122085   \n",
       "1    7.269512    0.244170     2.931228     0.244170     2.927410     0.244170   \n",
       "2    6.706520    0.366256     0.915097     0.366256     1.288707     0.366256   \n",
       "3    3.413735    0.488341     0.907618     0.488341     0.435907     0.488341   \n",
       "4    3.705543    0.610426     0.074914     0.610426     0.893366     0.610426   \n",
       "\n",
       "   Bsk.52_yf.1  Bsk.52_xf.1  \n",
       "0     0.513898     0.122085  \n",
       "1     0.880688     0.244170  \n",
       "2     0.191942     0.366256  \n",
       "3     0.266611     0.488341  \n",
       "4     1.008653     0.610426  \n",
       "\n",
       "[5 rows x 558 columns]"
      ]
     },
     "execution_count": 20,
     "metadata": {},
     "output_type": "execute_result"
    }
   ],
   "source": [
    "y.head()"
   ]
  },
  {
   "cell_type": "code",
   "execution_count": 410,
   "metadata": {
    "scrolled": true
   },
   "outputs": [
    {
     "name": "stderr",
     "output_type": "stream",
     "text": [
      "C:\\Users\\ecath\\Anaconda3\\lib\\site-packages\\pandas\\core\\frame.py:3035: SettingWithCopyWarning: \n",
      "A value is trying to be set on a copy of a slice from a DataFrame\n",
      "\n",
      "See the caveats in the documentation: http://pandas.pydata.org/pandas-docs/stable/indexing.html#indexing-view-versus-copy\n",
      "  downcast=downcast, **kwargs)\n",
      "C:\\Users\\ecath\\Anaconda3\\lib\\site-packages\\ipykernel_launcher.py:5: SettingWithCopyWarning: \n",
      "A value is trying to be set on a copy of a slice from a DataFrame\n",
      "\n",
      "See the caveats in the documentation: http://pandas.pydata.org/pandas-docs/stable/indexing.html#indexing-view-versus-copy\n",
      "  \"\"\"\n"
     ]
    }
   ],
   "source": [
    "all_fft_el, all_fft_om = full_fft_list(drivers)"
   ]
  },
  {
   "cell_type": "code",
   "execution_count": 431,
   "metadata": {},
   "outputs": [
    {
     "data": {
      "text/plain": [
       "[<matplotlib.lines.Line2D at 0x219d5f6ee10>]"
      ]
     },
     "execution_count": 431,
     "metadata": {},
     "output_type": "execute_result"
    },
    {
     "data": {
      "image/png": "[encoded data removed]",
      "text/plain": [
       "<Figure size 432x288 with 1 Axes>"
      ]
     },
     "metadata": {},
     "output_type": "display_data"
    }
   ],
   "source": [
    "plt.plot(all_fft_om[1].iloc[:-2,1], all_fft_om[1].iloc[:-2,2])"
   ]
  }
 ],
 "metadata": {
  "kernelspec": {
   "display_name": "Python 3",
   "language": "python",
   "name": "python3"
  },
  "language_info": {
   "codemirror_mode": {
    "name": "ipython",
    "version": 3
   },
   "file_extension": ".py",
   "mimetype": "text/x-python",
   "name": "python",
   "nbconvert_exporter": "python",
   "pygments_lexer": "ipython3",
   "version": "3.6.5"
  }
 },
 "nbformat": 4,
 "nbformat_minor": 2
}
