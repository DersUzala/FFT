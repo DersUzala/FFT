{
 "cells": [
  {
   "cell_type": "code",
   "execution_count": 43,
   "metadata": {},
   "outputs": [],
   "source": [
    "import pandas as pd\n",
    "import numpy as np\n",
    "from sklearn.model_selection import train_test_split\n",
    "from sklearn.linear_model import LogisticRegression\n",
    "from sklearn.grid_search import GridSearchCV\n",
    "from sklearn.metrics import accuracy_score,roc_auc_score,f1_score, classification_report, confusion_matrix\n",
    "from sklearn.preprocessing import StandardScaler"
   ]
  },
  {
   "cell_type": "code",
   "execution_count": 2,
   "metadata": {},
   "outputs": [
    {
     "name": "stdout",
     "output_type": "stream",
     "text": [
      "(959, 17)\n"
     ]
    }
   ],
   "source": [
    "path = r'C:\\Users\\Public\\Documents\\HRS'\n",
    "data = pd.read_csv(path +'\\Feature matrix electrodes.csv')\n",
    "print (data.shape)"
   ]
  },
  {
   "cell_type": "code",
   "execution_count": 3,
   "metadata": {},
   "outputs": [],
   "source": [
    "X = data.drop('target', 1)\n",
    "y = data['target']\n",
    "# print (y)"
   ]
  },
  {
   "cell_type": "code",
   "execution_count": 19,
   "metadata": {},
   "outputs": [
    {
     "data": {
      "text/plain": [
       "Counter({1.0: 56, 0.0: 784, -1.0: 119})"
      ]
     },
     "execution_count": 19,
     "metadata": {},
     "output_type": "execute_result"
    }
   ],
   "source": [
    "from collections import Counter\n",
    "Counter(y)"
   ]
  },
  {
   "cell_type": "markdown",
   "metadata": {},
   "source": [
    "## Logistic regression"
   ]
  },
  {
   "cell_type": "code",
   "execution_count": 4,
   "metadata": {},
   "outputs": [],
   "source": [
    "(X_train, X_test, y_train, y_test) = train_test_split(X, y, test_size=0.3, stratify=y)\n",
    "encoder = StandardScaler()\n",
    "X_train_scaled = encoder.fit_transform(X_train)\n",
    "X_test_scaled = encoder.fit_transform(X_test)"
   ]
  },
  {
   "cell_type": "code",
   "execution_count": 5,
   "metadata": {},
   "outputs": [],
   "source": [
    "#GridSearchCV parameters\n",
    "param_grid = {'C': [1,5,10,12,15,17,18,19,20,21,22,23, 25]}\n",
    "cv = 3\n",
    "estimator = LogisticRegression(class_weight='balanced')"
   ]
  },
  {
   "cell_type": "code",
   "execution_count": 6,
   "metadata": {},
   "outputs": [
    {
     "name": "stdout",
     "output_type": "stream",
     "text": [
      "GridSearchCV(cv=3, error_score='raise',\n",
      "       estimator=LogisticRegression(C=1.0, class_weight='balanced', dual=False,\n",
      "          fit_intercept=True, intercept_scaling=1, max_iter=100,\n",
      "          multi_class='ovr', n_jobs=1, penalty='l2', random_state=None,\n",
      "          solver='liblinear', tol=0.0001, verbose=0, warm_start=False),\n",
      "       fit_params={}, iid=True, n_jobs=1,\n",
      "       param_grid={'C': [1, 5, 10, 12, 15, 17, 18, 19, 20, 21, 22, 23, 25]},\n",
      "       pre_dispatch='2*n_jobs', refit=True, scoring=None, verbose=0)\n",
      "Wall time: 285 ms\n"
     ]
    }
   ],
   "source": [
    "%%time\n",
    "#GridSearchCV\n",
    "optimizer = GridSearchCV(estimator, param_grid, cv=cv)\n",
    "optimizer.fit(X_train_scaled, y_train)\n",
    "print(optimizer)"
   ]
  },
  {
   "cell_type": "code",
   "execution_count": 7,
   "metadata": {},
   "outputs": [],
   "source": [
    "a=np.zeros((2,np.shape(y_test)[0]))\n",
    "a[0,:] = optimizer.best_estimator_.predict(X_test_scaled)\n",
    "a[1,:] = y_test"
   ]
  },
  {
   "cell_type": "code",
   "execution_count": 9,
   "metadata": {},
   "outputs": [
    {
     "name": "stdout",
     "output_type": "stream",
     "text": [
      "[[ 0.  1.  0.  0.  0.  0.  0.  0.  1.  0.  0. -1.  0. -1.  0.  1.  0. -1.\n",
      "  -1.  0.  0.  0.  0.  0. -1. -1.  0.  0.  0.  0.  0. -1.  0.  0.  0.  0.\n",
      "   0.  0.  0.  0.  0.  0.  1.  0.  1.  0.  0.  0.  0.  0.  0.  0.  0.  0.\n",
      "   0.  0. -1.  0.  0.  0.  0.  0.  0.  0.  0.  1.  0.  0.  0.  0.  0.  0.\n",
      "  -1.  0.  0.  0.  0.  1.  1. -1.  0.  0.  0.  0.  0.  0.  0.  0.  0.  0.\n",
      "  -1.  0. -1.  0.  0.  0.  0.  0. -1.  0.  0.  0. -1.  0.  0.  0.  0.  0.\n",
      "  -1.  0.  0.  0.  0.  1.  1.  0.  0.  0.  0.  0.  0.  0.  0.  0.  0. -1.\n",
      "   0.  0.  0.  0.  0.  0.  0.  0.  0.  0.  0.  0.  0.  0.  0.  0.  0.  0.\n",
      "   0.  0.  1. -1.  0.  1.  0.  0.  0.  0.  0. -1.  0.  0.  0.  0.  0.  0.\n",
      "   0.  0. -1.  0.  0.  1.  0.  0.  0.  0.  0.  0.  0.  0. -1.  0.  0.  0.\n",
      "   0. -1.  0.  0.  0.  0.  0.  0.  0.  0.  0. -1.  0.  0.  0.  0.  0.  0.\n",
      "   0.  0. -1.  0.  0.  0.  0.  0.  0.  0.  0.  0.  0.  0. -1.  0.  0.  0.\n",
      "  -1.  0.  0.  0.  0. -1. -1. -1.  0.  0.  0.  0. -1.  0.  0. -1.  0.  0.\n",
      "   0.  0.  0.  0. -1.  0.  0.  0.  0.  0.  0.  0.  0. -1.  0. -1.  0.  0.\n",
      "   0.  0.  0.  0.  0.  0.  0.  0.  0.  0.  0.  0. -1.  0.  1.  0.  0.  0.\n",
      "   0.  0.  0.  0.  0.  0.  0.  0.  0.  0.  0.  0. -1.  0.  0.  0. -1.  0.]\n",
      " [ 0.  1.  0.  0.  0.  0.  0.  0.  1.  0.  0. -1.  0. -1.  0.  1.  0. -1.\n",
      "  -1.  0.  0.  0.  0.  0. -1. -1.  0.  0.  0.  0.  0. -1.  0.  0.  0.  0.\n",
      "   0.  0.  0.  0.  0.  0.  1.  0.  1.  0.  0.  0.  0.  0.  0.  0.  0.  0.\n",
      "   0.  0. -1.  0.  0.  0.  0.  0.  0. -1.  0.  1.  0.  0.  0.  0.  0.  0.\n",
      "  -1.  0.  0.  0.  0.  1.  0. -1.  0.  0.  0.  0.  0.  0.  0.  0.  0.  0.\n",
      "  -1.  0. -1.  0.  0.  0.  0.  0. -1.  0.  0.  0. -1.  0.  0.  0.  0.  0.\n",
      "  -1.  0.  0.  0.  0.  1.  1.  0.  0.  0.  0.  0.  0.  0.  0.  0.  0. -1.\n",
      "   0.  0.  0.  1.  0.  0.  0.  0.  0.  0.  0.  0.  0.  0.  0.  0.  0.  0.\n",
      "   0.  0.  1. -1.  0.  1.  0.  0.  0.  0.  0. -1.  0.  0.  0.  0.  0.  0.\n",
      "   0.  0. -1.  0.  0.  1.  0.  0.  0.  0.  0.  0.  0.  0. -1.  0.  0.  0.\n",
      "   0. -1.  0.  0.  0.  0.  0.  0.  0.  0.  0. -1.  0.  0.  0.  1.  0.  0.\n",
      "   0.  0. -1.  0.  0.  0.  0.  0.  0.  0.  1.  0.  0.  0. -1.  0.  0.  0.\n",
      "  -1.  0.  0.  0.  0. -1. -1. -1.  0.  0.  0.  0. -1.  0.  0. -1.  0.  0.\n",
      "   0.  0.  0.  0.  0.  0.  0.  0.  0.  0.  0.  0.  0. -1.  0. -1.  0.  0.\n",
      "   0.  0.  0.  0.  0.  0.  0.  0.  0.  0.  0.  0. -1.  0.  1.  0.  0.  0.\n",
      "   0.  0.  0.  0.  0.  0.  0.  0.  1.  0.  0.  0. -1.  0.  0.  0. -1.  0.]]\n"
     ]
    }
   ],
   "source": [
    "print(a)"
   ]
  },
  {
   "cell_type": "code",
   "execution_count": 8,
   "metadata": {},
   "outputs": [
    {
     "name": "stdout",
     "output_type": "stream",
     "text": [
      "Best parameter for GridSearchCV {'C': 23}\n",
      "accuracy 0.9756944444444444\n"
     ]
    }
   ],
   "source": [
    "print('Best parameter for GridSearchCV', optimizer.best_params_)\n",
    "accuracy_score = accuracy_score(y_test, optimizer.best_estimator_.predict(X_test_scaled))\n",
    "print('accuracy', accuracy_score)"
   ]
  },
  {
   "cell_type": "markdown",
   "metadata": {},
   "source": [
    "## Polynomial features"
   ]
  },
  {
   "cell_type": "code",
   "execution_count": 19,
   "metadata": {},
   "outputs": [],
   "source": [
    "from sklearn.preprocessing import PolynomialFeatures\n",
    "transform = PolynomialFeatures(2)\n",
    "\n",
    "data_train_poly = transform.fit_transform(X_train)\n",
    "data_test_poly = transform.transform(X_test)\n",
    "\n",
    "encoder = StandardScaler()\n",
    "\n",
    "data_train_poly_scaled = encoder.fit_transform(data_train_poly)\n",
    "data_test_poly_scaled = encoder.fit_transform(data_test_poly)"
   ]
  },
  {
   "cell_type": "code",
   "execution_count": 20,
   "metadata": {},
   "outputs": [],
   "source": [
    "#GridSearchCV parameters\n",
    "param_grid = {'C': [5,6,7,8,9,10,11,12,13,14,15,16,17,18,19,20,21,22,23,24,25]}\n",
    "cv = 3\n",
    "estimator_poly = LogisticRegression(class_weight='balanced')"
   ]
  },
  {
   "cell_type": "code",
   "execution_count": 21,
   "metadata": {},
   "outputs": [
    {
     "name": "stdout",
     "output_type": "stream",
     "text": [
      "GridSearchCV(cv=3, error_score='raise',\n",
      "       estimator=LogisticRegression(C=1.0, class_weight='balanced', dual=False,\n",
      "          fit_intercept=True, intercept_scaling=1, max_iter=100,\n",
      "          multi_class='ovr', n_jobs=1, penalty='l2', random_state=None,\n",
      "          solver='liblinear', tol=0.0001, verbose=0, warm_start=False),\n",
      "       fit_params={}, iid=True, n_jobs=1,\n",
      "       param_grid={'C': [5, 6, 7, 8, 9, 10, 11, 12, 13, 14, 15, 16, 17, 18, 19, 20, 21, 22, 23, 24, 25]},\n",
      "       pre_dispatch='2*n_jobs', refit=True, scoring=None, verbose=0)\n",
      "Wall time: 7.08 s\n"
     ]
    }
   ],
   "source": [
    "%%time\n",
    "optimizer_poly = GridSearchCV(estimator_poly, param_grid, cv=cv)\n",
    "optimizer_poly.fit(data_train_poly_scaled, y_train)\n",
    "print(optimizer_poly)"
   ]
  },
  {
   "cell_type": "code",
   "execution_count": 22,
   "metadata": {},
   "outputs": [],
   "source": [
    "b=np.zeros((2,np.shape(y_test)[0]))\n",
    "b[0,:] = optimizer_poly.best_estimator_.predict(data_test_poly_scaled)\n",
    "b[1,:] = y_test"
   ]
  },
  {
   "cell_type": "code",
   "execution_count": 23,
   "metadata": {},
   "outputs": [
    {
     "name": "stdout",
     "output_type": "stream",
     "text": [
      "[[ 0.  1.  0.  0.  0.  0.  0.  0.  1.  0.  0. -1.  0. -1.  0.  1.  0. -1.\n",
      "  -1.  0.  0.  0.  0.  0. -1. -1.  0.  0.  0.  0.  0. -1.  0.  0.  0.  0.\n",
      "   0.  0.  0.  0.  0.  0.  1.  0.  1.  0.  0.  0.  0.  0.  0.  0.  0.  0.\n",
      "   0. -1. -1.  0.  1.  0.  0.  0.  0.  0.  0.  1.  0.  0.  0.  0.  0.  0.\n",
      "  -1.  0.  0.  0.  0.  1.  1. -1.  0.  0.  0.  0.  0.  0.  0.  0.  0.  0.\n",
      "   0.  0. -1.  0.  0.  0.  0.  0. -1.  0.  0.  0. -1.  0.  0.  0.  0.  0.\n",
      "  -1.  0.  0.  0.  0.  1.  1.  0.  0.  0.  0.  0.  0.  0.  0.  0.  0. -1.\n",
      "   0.  0.  0.  1.  0.  0.  0.  0.  0.  0.  0.  0.  0.  0.  0.  0.  0.  0.\n",
      "   0.  0.  1. -1.  0.  1.  0.  0.  0.  0. -1. -1.  0.  0.  0.  0.  0.  0.\n",
      "   0.  0. -1.  0.  0.  1.  0.  0.  0.  0.  0.  0.  0.  0. -1.  0.  0.  0.\n",
      "   0. -1.  0.  0.  0.  0.  0.  0.  0.  0.  0. -1.  0.  0.  0.  0.  0.  0.\n",
      "   0.  0. -1.  0.  0.  0.  0.  0.  0.  0.  0.  0.  0.  0. -1.  0.  0.  0.\n",
      "  -1.  0.  0.  0.  0. -1. -1. -1. -1.  0.  0.  0. -1.  0.  0. -1.  0.  0.\n",
      "   0.  0.  0.  0. -1.  0.  0.  0.  0.  0.  0.  0.  0. -1.  0. -1.  0. -1.\n",
      "   0.  0.  0.  0.  0.  0. -1.  0.  0.  0.  0.  0. -1.  0.  1.  0.  0.  0.\n",
      "   1.  0.  0.  0.  0.  0.  0.  0.  0.  0.  0.  0. -1.  0.  0.  0. -1.  0.]\n",
      " [ 0.  1.  0.  0.  0.  0.  0.  0.  1.  0.  0. -1.  0. -1.  0.  1.  0. -1.\n",
      "  -1.  0.  0.  0.  0.  0. -1. -1.  0.  0.  0.  0.  0. -1.  0.  0.  0.  0.\n",
      "   0.  0.  0.  0.  0.  0.  1.  0.  1.  0.  0.  0.  0.  0.  0.  0.  0.  0.\n",
      "   0.  0. -1.  0.  0.  0.  0.  0.  0. -1.  0.  1.  0.  0.  0.  0.  0.  0.\n",
      "  -1.  0.  0.  0.  0.  1.  0. -1.  0.  0.  0.  0.  0.  0.  0.  0.  0.  0.\n",
      "  -1.  0. -1.  0.  0.  0.  0.  0. -1.  0.  0.  0. -1.  0.  0.  0.  0.  0.\n",
      "  -1.  0.  0.  0.  0.  1.  1.  0.  0.  0.  0.  0.  0.  0.  0.  0.  0. -1.\n",
      "   0.  0.  0.  1.  0.  0.  0.  0.  0.  0.  0.  0.  0.  0.  0.  0.  0.  0.\n",
      "   0.  0.  1. -1.  0.  1.  0.  0.  0.  0.  0. -1.  0.  0.  0.  0.  0.  0.\n",
      "   0.  0. -1.  0.  0.  1.  0.  0.  0.  0.  0.  0.  0.  0. -1.  0.  0.  0.\n",
      "   0. -1.  0.  0.  0.  0.  0.  0.  0.  0.  0. -1.  0.  0.  0.  1.  0.  0.\n",
      "   0.  0. -1.  0.  0.  0.  0.  0.  0.  0.  1.  0.  0.  0. -1.  0.  0.  0.\n",
      "  -1.  0.  0.  0.  0. -1. -1. -1.  0.  0.  0.  0. -1.  0.  0. -1.  0.  0.\n",
      "   0.  0.  0.  0.  0.  0.  0.  0.  0.  0.  0.  0.  0. -1.  0. -1.  0.  0.\n",
      "   0.  0.  0.  0.  0.  0.  0.  0.  0.  0.  0.  0. -1.  0.  1.  0.  0.  0.\n",
      "   0.  0.  0.  0.  0.  0.  0.  0.  1.  0.  0.  0. -1.  0.  0.  0. -1.  0.]]\n"
     ]
    }
   ],
   "source": [
    "print(b)"
   ]
  },
  {
   "cell_type": "code",
   "execution_count": 28,
   "metadata": {},
   "outputs": [
    {
     "name": "stdout",
     "output_type": "stream",
     "text": [
      "Best parameter for GridSearchCV {'C': 6}\n",
      "accuracy 0.9513888888888888\n"
     ]
    }
   ],
   "source": [
    "print('Best parameter for GridSearchCV', optimizer_poly.best_params_)\n",
    "accuracy_score_poly = accuracy_score(y_test, optimizer_poly.best_estimator_.predict(data_test_poly_scaled))\n",
    "print('accuracy', accuracy_score_poly)"
   ]
  },
  {
   "cell_type": "markdown",
   "metadata": {},
   "source": [
    "## Lasso penalty for Logistic regression"
   ]
  },
  {
   "cell_type": "code",
   "execution_count": 29,
   "metadata": {},
   "outputs": [],
   "source": [
    "(X_train, X_test, y_train, y_test) = train_test_split(X, y, test_size=0.3, stratify=y)\n",
    "encoder = StandardScaler()\n",
    "X_train_scaled = encoder.fit_transform(X_train)\n",
    "X_test_scaled = encoder.fit_transform(X_test)"
   ]
  },
  {
   "cell_type": "code",
   "execution_count": 30,
   "metadata": {},
   "outputs": [],
   "source": [
    "#GridSearchCV parameters\n",
    "param_grid = {'C': [1,5,10,12,15,17,18,19,20,21,22,23, 25]}\n",
    "cv = 3\n",
    "estimator_l1 = LogisticRegression(class_weight='balanced', penalty='l1')"
   ]
  },
  {
   "cell_type": "code",
   "execution_count": 31,
   "metadata": {},
   "outputs": [
    {
     "name": "stdout",
     "output_type": "stream",
     "text": [
      "GridSearchCV(cv=3, error_score='raise',\n",
      "       estimator=LogisticRegression(C=1.0, class_weight='balanced', dual=False,\n",
      "          fit_intercept=True, intercept_scaling=1, max_iter=100,\n",
      "          multi_class='ovr', n_jobs=1, penalty='l1', random_state=None,\n",
      "          solver='liblinear', tol=0.0001, verbose=0, warm_start=False),\n",
      "       fit_params={}, iid=True, n_jobs=1,\n",
      "       param_grid={'C': [1, 5, 10, 12, 15, 17, 18, 19, 20, 21, 22, 23, 25]},\n",
      "       pre_dispatch='2*n_jobs', refit=True, scoring=None, verbose=0)\n",
      "Wall time: 2.06 s\n"
     ]
    }
   ],
   "source": [
    "%%time\n",
    "#GridSearchCV\n",
    "optimizer_l1 = GridSearchCV(estimator_l1, param_grid, cv=cv)\n",
    "optimizer_l1.fit(X_train_scaled, y_train)\n",
    "print(optimizer_l1)"
   ]
  },
  {
   "cell_type": "code",
   "execution_count": 37,
   "metadata": {},
   "outputs": [
    {
     "name": "stdout",
     "output_type": "stream",
     "text": [
      "Best parameter for GridSearchCV {'C': 5}\n",
      "accuracy 0.9861111111111112\n"
     ]
    }
   ],
   "source": [
    "print('Best parameter for GridSearchCV', optimizer_l1.best_params_)\n",
    "accuracy_score_l1 = accuracy_score(y_test, optimizer_l1.best_estimator_.predict(X_test_scaled))\n",
    "print('accuracy', accuracy_score_l1)"
   ]
  },
  {
   "cell_type": "code",
   "execution_count": 39,
   "metadata": {},
   "outputs": [
    {
     "name": "stdout",
     "output_type": "stream",
     "text": [
      "f1 =  0.9861298487154652\n"
     ]
    }
   ],
   "source": [
    "f1_l1 = f1_score(y_test, optimizer_l1.best_estimator_.predict(X_test_scaled), average ='weighted')\n",
    "print('f1 = ', f1_l1)"
   ]
  },
  {
   "cell_type": "code",
   "execution_count": 42,
   "metadata": {},
   "outputs": [
    {
     "name": "stdout",
     "output_type": "stream",
     "text": [
      "report =               precision    recall  f1-score   support\n",
      "\n",
      "       -1.0       0.95      0.97      0.96        36\n",
      "        0.0       0.99      0.99      0.99       235\n",
      "        1.0       1.00      0.94      0.97        17\n",
      "\n",
      "avg / total       0.99      0.99      0.99       288\n",
      "\n"
     ]
    }
   ],
   "source": [
    "report_l1 = classification_report(y_test, optimizer_l1.best_estimator_.predict(X_test_scaled))\n",
    "print('report = ', report_l1)"
   ]
  },
  {
   "cell_type": "code",
   "execution_count": 44,
   "metadata": {},
   "outputs": [
    {
     "name": "stdout",
     "output_type": "stream",
     "text": [
      "confus =  [[ 35   1   0]\n",
      " [  2 233   0]\n",
      " [  0   1  16]]\n"
     ]
    }
   ],
   "source": [
    "confus_l1 = confusion_matrix(y_test, optimizer_l1.best_estimator_.predict(X_test_scaled))\n",
    "print('confus = ', confus_l1)"
   ]
  }
 ],
 "metadata": {
  "kernelspec": {
   "display_name": "Python 3",
   "language": "python",
   "name": "python3"
  },
  "language_info": {
   "codemirror_mode": {
    "name": "ipython",
    "version": 3
   },
   "file_extension": ".py",
   "mimetype": "text/x-python",
   "name": "python",
   "nbconvert_exporter": "python",
   "pygments_lexer": "ipython3",
   "version": "3.6.5"
  }
 },
 "nbformat": 4,
 "nbformat_minor": 2
}
