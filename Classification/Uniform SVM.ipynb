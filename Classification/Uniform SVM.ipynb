{
 "cells": [
  {
   "cell_type": "code",
   "execution_count": 107,
   "metadata": {},
   "outputs": [],
   "source": [
    "import pandas as pd\n",
    "import numpy as np\n",
    "import seaborn as sns\n",
    "import matplotlib.pyplot as plt\n",
    "%matplotlib inline\n",
    "\n",
    "from imblearn.over_sampling import SMOTE\n",
    "from imblearn.under_sampling import RandomUnderSampler\n",
    "\n",
    "from sklearn.model_selection import train_test_split, cross_val_score\n",
    "from sklearn.svm import SVC\n",
    "from sklearn.model_selection import GridSearchCV\n",
    "from sklearn.metrics import accuracy_score, confusion_matrix, f1_score, roc_auc_score\n",
    "from sklearn.preprocessing import StandardScaler\n",
    "\n",
    "from statsmodels.stats.weightstats import _zconfint_generic, _tconfint_generic\n",
    "\n",
    "from tqdm import tqdm_notebook\n",
    "from IPython import display\n",
    "\n",
    "import warnings\n",
    "warnings.filterwarnings(\"ignore\")"
   ]
  },
  {
   "cell_type": "code",
   "execution_count": 119,
   "metadata": {},
   "outputs": [
    {
     "name": "stdout",
     "output_type": "stream",
     "text": [
      " 3 peaks.csv\n",
      "(78, 15) (78,)\n",
      "(68, 30) (68,)\n",
      "SVC model EL f1: mean 0.570, std 0.149\n",
      "SVC model EL+OM f1: mean 0.603, std 0.276\n",
      "SVC model EL mean f1 95%% confidence interval: (0.463633771639035, 0.6761064881012246)\n",
      "SVC model EL+OM mean f1 95%% confidence interval: (0.4059580531161614, 0.8010260738679656)\n",
      " 4 peaks.csv\n",
      "(78, 19) (78,)\n",
      "(68, 38) (68,)\n",
      "SVC model EL f1: mean 0.498, std 0.170\n",
      "SVC model EL+OM f1: mean 0.591, std 0.195\n",
      "SVC model EL mean f1 95%% confidence interval: (0.3756861414673876, 0.6193499335686874)\n",
      "SVC model EL+OM mean f1 95%% confidence interval: (0.4515235675099485, 0.7311171251307442)\n",
      " 5 peaks.csv\n",
      "(78, 23) (78,)\n",
      "(68, 46) (68,)\n",
      "SVC model EL f1: mean 0.477, std 0.208\n",
      "SVC model EL+OM f1: mean 0.536, std 0.147\n",
      "SVC model EL mean f1 95%% confidence interval: (0.32752839080790663, 0.6256462123666965)\n",
      "SVC model EL+OM mean f1 95%% confidence interval: (0.4311376766945314, 0.6415607360038813)\n"
     ]
    }
   ],
   "source": [
    "path = r'C:\\Users\\Public\\Documents\\HRS\\Features new'\n",
    "beginning_of_name_EL = '\\Feature matrix EL no noise'\n",
    "beginning_of_name_EL_OM = '\\Feature matrix EL+OM no noise'\n",
    "end_of_name = 'peaks.csv'\n",
    "list_of_names = [' 3 ', ' 4 ', ' 5 ']\n",
    "\n",
    "f1 = np.zeros((3,2)) # list of f1_scores, shape list_of_names*3\n",
    "\n",
    "for i in range(len(list_of_names)):\n",
    "    data = pd.read_csv(path + beginning_of_name_EL + list_of_names[i] + end_of_name, index_col=0)\n",
    "    data.drop(['Label for OM and EL'], axis=1, inplace=True)\n",
    "    data1 = pd.read_csv(path + beginning_of_name_EL_OM + list_of_names[i] + end_of_name, index_col=0)\n",
    "    print(list_of_names[i] + end_of_name)\n",
    "    \n",
    "    X = data.drop('target', axis=1) #full of EL data ~ 900 sequencies\n",
    "    y = data['target']\n",
    "\n",
    "    X1 = data1.drop('target', axis=1) #full of EL+OM data ~ 200 sequencies\n",
    "    y1 = data1['target']\n",
    "\n",
    "    scaler = StandardScaler()\n",
    "    \n",
    "    X = scaler.fit_transform(X)\n",
    "    X1 = scaler.fit_transform(X1)\n",
    "     \n",
    "\n",
    "    (X_train, X_test, y_train, y_test) = train_test_split(X, y, test_size=0.3, stratify=y)\n",
    "\n",
    "    (X1_train, X1_test, y1_train, y1_test) = train_test_split(X1, y1,\\\n",
    "                                                                  test_size=0.3, stratify=y1)\n",
    "    \n",
    "    X_resampled, y_resampled = RandomUnderSampler().fit_resample(X_train, y_train)\n",
    "    print(X_resampled.shape, y_resampled.shape)\n",
    "    X1_resampled, y1_resampled = RandomUnderSampler().fit_resample(X1_train, y1_train)\n",
    "    print(X1_resampled.shape, y1_resampled.shape)\n",
    "\n",
    "    \n",
    "#     parameters = {'kernel':('linear', 'rbf'), 'C':[1, 2, 5, 7, 10]}\n",
    "\n",
    "\n",
    "    clf = SVC(kernel='rbf', C=1.0, gamma='scale', class_weight='balanced') #,\n",
    "    \n",
    "    svc_f1_score = cross_val_score(clf, X_resampled, y_resampled, scoring='f1', cv=10)\n",
    "    svc_f1_score1 = cross_val_score(clf, X1_resampled, y1_resampled, scoring='f1', cv=10)\n",
    "\n",
    "    svc_mean = svc_f1_score.mean()\n",
    "    svc_mean1 = svc_f1_score1.mean()\n",
    "    \n",
    "    print(\"SVC model EL f1: mean %.3f, std %.3f\" % (svc_f1_score.mean(), svc_f1_score.std(ddof=1)))\n",
    "    print(\"SVC model EL+OM f1: mean %.3f, std %.3f\" % (svc_f1_score1.mean(), svc_f1_score1.std(ddof=1)))\n",
    "    \n",
    "    svc_mean_std = svc_f1_score.std(ddof=1)/np.sqrt(len(svc_f1_score))\n",
    "    svc_mean_std1 = svc_f1_score1.std(ddof=1)/np.sqrt(len(svc_f1_score1))\n",
    "\n",
    "    print(\"SVC model EL mean f1 95%% confidence interval:\", _tconfint_generic(svc_mean, svc_mean_std,\n",
    "                                                                       len(svc_f1_score) - 1,\n",
    "                                                                       0.05, 'two-sided'))\n",
    "\n",
    "    print(\"SVC model EL+OM mean f1 95%% confidence interval:\", _tconfint_generic(svc_mean1, svc_mean_std1,\n",
    "                                                                       len(svc_f1_score1) - 1,\n",
    "                                                                       0.05, 'two-sided'))\n",
    "    \n",
    "#     optimizer = GridSearchCV(clf, parameters, cv=10, scoring='f1')\n",
    "#     optimizer.fit(X_train, y_train) \n",
    "#     print(optimizer.best_score_, optimizer.best_params_)\n",
    "    \n",
    "    \n",
    "\n",
    "#     optimizer1 = GridSearchCV(clf, parameters, cv=10, scoring='f1')\n",
    "#     optimizer1.fit(X1_train, y1_train) \n",
    "#     print(optimizer1.best_score_, optimizer1.best_params_)\n",
    "\n",
    "\n",
    "#     y_pred = optimizer.best_estimator_.predict(X_test)\n",
    "#     y_pred1 = optimizer1.best_estimator_.predict(X1_test)\n",
    "\n",
    "#     f1[i][0]= f1_score(y_test, y_pred)\n",
    "#     f1[i][1]= f1_score(y1_test, y_pred1)\n",
    "\n",
    "    "
   ]
  },
  {
   "cell_type": "code",
   "execution_count": 95,
   "metadata": {},
   "outputs": [
    {
     "data": {
      "text/plain": [
       "0.49894993894993894"
      ]
     },
     "execution_count": 95,
     "metadata": {},
     "output_type": "execute_result"
    }
   ],
   "source": [
    "optimizer.cv_results_['mean_test_score'].mean()"
   ]
  },
  {
   "cell_type": "code",
   "execution_count": 118,
   "metadata": {},
   "outputs": [
    {
     "data": {
      "text/plain": [
       "array([[0.        , 0.28571429],\n",
       "       [0.09302326, 0.21428571],\n",
       "       [0.13953488, 0.14285714]])"
      ]
     },
     "execution_count": 118,
     "metadata": {},
     "output_type": "execute_result"
    }
   ],
   "source": [
    "f1"
   ]
  },
  {
   "cell_type": "code",
   "execution_count": 116,
   "metadata": {},
   "outputs": [
    {
     "data": {
      "text/plain": [
       "['yraaaa', 'yraaaa', 'yraaaa']"
      ]
     },
     "execution_count": 116,
     "metadata": {},
     "output_type": "execute_result"
    }
   ],
   "source": [
    "emoji_matrix = []\n",
    "for i in range(f1.shape[0]):\n",
    "    if f1[i][0] > f1[i][1]:\n",
    "        emoji_matrix.append('beeee')\n",
    "    else:\n",
    "        emoji_matrix.append('yraaaa')\n",
    "emoji_matrix"
   ]
  },
  {
   "cell_type": "code",
   "execution_count": null,
   "metadata": {},
   "outputs": [],
   "source": []
  }
 ],
 "metadata": {
  "kernelspec": {
   "display_name": "Python 3",
   "language": "python",
   "name": "python3"
  },
  "language_info": {
   "codemirror_mode": {
    "name": "ipython",
    "version": 3
   },
   "file_extension": ".py",
   "mimetype": "text/x-python",
   "name": "python",
   "nbconvert_exporter": "python",
   "pygments_lexer": "ipython3",
   "version": "3.6.5"
  }
 },
 "nbformat": 4,
 "nbformat_minor": 2
}
