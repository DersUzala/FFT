{
 "cells": [
  {
   "cell_type": "code",
   "execution_count": 1,
   "metadata": {},
   "outputs": [],
   "source": [
    "import pandas as pd\n",
    "import matplotlib.pyplot as plt\n",
    "import seaborn as sns\n",
    "import numpy as np\n",
    "\n",
    "import os\n",
    "import glob\n",
    "\n",
    "from scipy.stats import norm\n",
    "from sklearn.preprocessing import StandardScaler\n",
    "from scipy import stats\n",
    "from PIL import Image\n",
    "from IPython import display\n",
    "%matplotlib inline"
   ]
  },
  {
   "cell_type": "markdown",
   "metadata": {},
   "source": [
    "Upload the data"
   ]
  },
  {
   "cell_type": "code",
   "execution_count": 3,
   "metadata": {},
   "outputs": [
    {
     "data": {
      "text/plain": [
       "['H79_F108.csv_annot.csv_KH.csv',\n",
       " 'H79_F108.csv_annot.csv_KHOMannotations_KH.xlsx',\n",
       " 'H79_F125.csv_annot MISSING H8_OM_KH.csv',\n",
       " 'H81_F158.csv_annot_KH.csv',\n",
       " 'H81_F171.csv_annot.csv',\n",
       " 'H82_F111.csv_annotOM_KH.csv',\n",
       " 'H96_F61.csv_annot.csv',\n",
       " 'H96_F88.csv_annot.csv']"
      ]
     },
     "execution_count": 3,
     "metadata": {},
     "output_type": "execute_result"
    }
   ],
   "source": [
    "path = r'D:\\Ohio\\Data OMD EMD 11.2018\\Ex Vivo CSV Files'# os.chdir(path)\n",
    "os.listdir(path)"
   ]
  },
  {
   "cell_type": "code",
   "execution_count": 4,
   "metadata": {},
   "outputs": [
    {
     "name": "stdout",
     "output_type": "stream",
     "text": [
      "(8270, 384)\n",
      "(8775, 384)\n",
      "(8138, 384)\n",
      "(10173, 384)\n",
      "(10173, 384)\n",
      "(8138, 384)\n",
      "(8138, 384)\n"
     ]
    }
   ],
   "source": [
    "data_list = []\n",
    "for filename in glob.glob(os.path.join(path, '*.csv')):\n",
    "    data = pd.read_csv(filename, header=0)\n",
    "    print(data.shape)\n",
    "    data_list.append(data)"
   ]
  },
  {
   "cell_type": "markdown",
   "metadata": {},
   "source": [
    "Split to three classes, electrode"
   ]
  },
  {
   "cell_type": "code",
   "execution_count": 5,
   "metadata": {},
   "outputs": [],
   "source": [
    "drivers = []\n",
    "nondrivers = []\n",
    "noises = []\n",
    "\n",
    "for df in data_list:\n",
    "    driver = pd.DataFrame()\n",
    "    nondriver = pd.DataFrame()\n",
    "    noise = pd.DataFrame()\n",
    "    for col in df.columns[1::3]:\n",
    "        curr_index = list(df.columns).index(col)\n",
    "        prev_index = curr_index - 1\n",
    "        next_index = curr_index + 1\n",
    "        prev_col = df.iloc[:,prev_index]\n",
    "        next_col = df.iloc[:,next_index]\n",
    "        if df[col][0] == 1:\n",
    "            driver[df.columns[prev_index]] = prev_col\n",
    "            driver[df.columns[next_index]] = next_col\n",
    "        elif df[col][0] == 0:\n",
    "            nondriver[df.columns[prev_index]] = prev_col\n",
    "            nondriver[df.columns[next_index]] = next_col\n",
    "        elif df[col][0] == -1:\n",
    "            noise[df.columns[prev_index]] = prev_col\n",
    "            noise[df.columns[next_index]] = next_col\n",
    "    drivers.append(driver)\n",
    "    nondrivers.append(nondriver)\n",
    "    noises.append(noise)"
   ]
  },
  {
   "cell_type": "markdown",
   "metadata": {},
   "source": [
    "# Fourier transform"
   ]
  },
  {
   "cell_type": "markdown",
   "metadata": {},
   "source": [
    "Fourier transfom for all electrode data"
   ]
  },
  {
   "cell_type": "code",
   "execution_count": 23,
   "metadata": {},
   "outputs": [
    {
     "name": "stdout",
     "output_type": "stream",
     "text": [
      "[163]\n",
      "[163]\n",
      "[163]\n",
      "[163]\n",
      "[163]\n",
      "[173]\n",
      "[173]\n",
      "[173]\n",
      "[173]\n",
      "[160]\n",
      "[160]\n",
      "[160]\n",
      "[160]\n",
      "[160]\n",
      "[160]\n",
      "[160]\n",
      "[201]\n",
      "[201]\n",
      "[201]\n",
      "[201]\n",
      "[201]\n",
      "[201]\n",
      "[201]\n",
      "[201]\n",
      "[201]\n",
      "[201]\n",
      "[201]\n",
      "[201]\n",
      "[201]\n",
      "[201]\n",
      "[160]\n",
      "[160]\n",
      "[160]\n",
      "[160]\n",
      "[160]\n",
      "[160]\n",
      "[160]\n",
      "[160]\n",
      "[160]\n",
      "[160]\n",
      "[160]\n",
      "[160]\n",
      "[160]\n",
      "[160]\n",
      "[160]\n",
      "[160]\n",
      "[160]\n",
      "[160]\n",
      "[160]\n",
      "[160]\n",
      "[160]\n",
      "[160]\n"
     ]
    }
   ],
   "source": [
    "for k, df in enumerate(drivers):\n",
    "    electrode_signal = df[df.columns[::2]]\n",
    "\n",
    "    y = []\n",
    "    for i in range(electrode_signal.shape[1]):\n",
    "        y_ = electrode_signal.iloc[:, i]\n",
    "        y.append(y_)\n",
    "\n",
    "    N = df.shape[0] # Number of sample points\n",
    "    Fs = 1017.25 # sampling rate\n",
    "    T = 1.0/Fs # sampling interval\n",
    "\n",
    "    yf =[]\n",
    "    xf=[]\n",
    "    for j in range(len(y)):\n",
    "        yf_ =  np.fft.fft(y[j])\n",
    "        yf.append(yf_)\n",
    "        xf_ = np.fft.rfftfreq(N, 1./Fs)\n",
    "        xf.append(xf_)\n",
    "        print(np.argwhere(xf_>20)[0]) # Index of 20 Hz\n"
   ]
  },
  {
   "cell_type": "markdown",
   "metadata": {},
   "source": [
    "Фурье спектр электродных данных"
   ]
  },
  {
   "cell_type": "code",
   "execution_count": 32,
   "metadata": {},
   "outputs": [
    {
     "data": {
      "image/png": "[encoded data removed]",
      "text/plain": [
       "<Figure size 432x288 with 1 Axes>"
      ]
     },
     "metadata": {},
     "output_type": "display_data"
    }
   ],
   "source": [
    "for i in [1]:\n",
    "    for j in range(drivers[i].shape[1] // 2):\n",
    "        \n",
    "        N = drivers[i].shape[0] # Number of sample points\n",
    "        Fs = 1017.25 # sampling rate\n",
    "        T = 1.0/Fs # sampling interval\n",
    "\n",
    "        electrode_signal = drivers[i][drivers[i].columns[::2]]\n",
    "        \n",
    "        y = []\n",
    "        for k in range(electrode_signal.shape[1]):\n",
    "            y_ = electrode_signal.iloc[:, k]\n",
    "            y.append(y_)\n",
    "\n",
    "    \n",
    "        yf =[]\n",
    "        xf=[]\n",
    "        for n in range(len(y)):\n",
    "            yf_ =  np.fft.fft(y[j])\n",
    "            yf.append(yf_)\n",
    "            xf_ = np.fft.fftfreq(N, 1./Fs)\n",
    "            xf.append(xf_)\n",
    "\n",
    "        plt.plot(xf[i], np.abs(yf[i])/N, color='r')\n",
    "        plt.xlim(0,20)\n",
    "        #plt.ylim(0, 0.15)\n",
    "        plt.grid(True)\n",
    "        plt.xlabel('Freq (Hz)')\n",
    "        plt.ylabel('|Y(freq)|')\n",
    "        plt.title('FFT of all drivers')\n",
    "plt.savefig(path + '\\Full FFT 1 drivers EM  ' + '.png')\n",
    "plt.show()"
   ]
  },
  {
   "cell_type": "code",
   "execution_count": null,
   "metadata": {},
   "outputs": [],
   "source": []
  }
 ],
 "metadata": {
  "kernelspec": {
   "display_name": "Python 3",
   "language": "python",
   "name": "python3"
  },
  "language_info": {
   "codemirror_mode": {
    "name": "ipython",
    "version": 3
   },
   "file_extension": ".py",
   "mimetype": "text/x-python",
   "name": "python",
   "nbconvert_exporter": "python",
   "pygments_lexer": "ipython3",
   "version": "3.6.5"
  }
 },
 "nbformat": 4,
 "nbformat_minor": 2
}
