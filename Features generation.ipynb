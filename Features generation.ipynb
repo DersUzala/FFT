{
 "cells": [
  {
   "cell_type": "code",
   "execution_count": 142,
   "metadata": {},
   "outputs": [],
   "source": [
    "import pandas as pd\n",
    "import seaborn as sns\n",
    "import numpy as np\n",
    "import matplotlib.pyplot as plt\n",
    "%matplotlib inline\n",
    "\n",
    "import os\n",
    "import glob\n",
    "\n",
    "from scipy.signal import find_peaks\n",
    "\n",
    "\n",
    "from IPython import display"
   ]
  },
  {
   "cell_type": "markdown",
   "metadata": {},
   "source": [
    "# Feature generation"
   ]
  },
  {
   "cell_type": "code",
   "execution_count": 143,
   "metadata": {},
   "outputs": [],
   "source": [
    "path = r'C:\\Users\\ecath\\Desktop\\Research\\Raw Data\\Ex Vivo CSV Files'"
   ]
  },
  {
   "cell_type": "code",
   "execution_count": 183,
   "metadata": {},
   "outputs": [],
   "source": [
    "el_sig = pd.read_csv(path + '\\All FFT of electrode signal.csv', index_col=0)\n",
    "om_sig = pd.read_csv(path + '\\All FFT of optical signal.csv', index_col=0)"
   ]
  },
  {
   "cell_type": "code",
   "execution_count": 319,
   "metadata": {},
   "outputs": [],
   "source": [
    "el_features = pd.DataFrame()\n",
    "om_features = pd.DataFrame()"
   ]
  },
  {
   "cell_type": "code",
   "execution_count": 320,
   "metadata": {},
   "outputs": [],
   "source": [
    "#count number of peaks for th% threshold\n",
    "def number_of_peaks(df, th):\n",
    "    all_props = []\n",
    "\n",
    "    for col in df.columns[::2]:\n",
    "        _, properties = find_peaks(df[col], height=0)\n",
    "        all_props.append(properties)\n",
    "    \n",
    "    num_of_peaks = []\n",
    "    \n",
    "    for i in range(len(all_props)):\n",
    "        max_height = np.max(all_props[i]['peak_heights'])\n",
    "        peaks, _ = find_peaks(df[df.columns[::2]].iloc[:,i], height=th*max_height)\n",
    "        num = peaks.shape[0]\n",
    "        num_of_peaks.append(num)\n",
    "    num_of_peaks = pd.DataFrame(num_of_peaks, columns=['#peaks_' + str(th)])\n",
    "    return(num_of_peaks)"
   ]
  },
  {
   "cell_type": "code",
   "execution_count": 325,
   "metadata": {},
   "outputs": [
    {
     "name": "stderr",
     "output_type": "stream",
     "text": [
      "C:\\Users\\ecath\\Anaconda3\\lib\\site-packages\\numpy\\core\\fromnumeric.py:52: FutureWarning: 'argmax' is deprecated. Use 'idxmax' instead. The behavior of 'argmax' will be corrected to return the positional maximum in the future. Use 'series.values.argmax' to get the position of the maximum now.\n",
      "  return getattr(obj, method)(*args, **kwds)\n"
     ]
    },
    {
     "data": {
      "text/plain": [
       "'68'"
      ]
     },
     "execution_count": 325,
     "metadata": {},
     "output_type": "execute_result"
    }
   ],
   "source": [
    "np.argmax(el_sig.iloc[:,0])"
   ]
  },
  {
   "cell_type": "code",
   "execution_count": 321,
   "metadata": {},
   "outputs": [],
   "source": [
    "el_num_5 = number_of_peaks(el_sig, 0.05)\n",
    "el_num_10 = number_of_peaks(el_sig, 0.1)\n",
    "el_features = pd.concat([el_features, el_num_5, el_num_10], axis=1)"
   ]
  },
  {
   "cell_type": "code",
   "execution_count": 322,
   "metadata": {},
   "outputs": [
    {
     "data": {
      "text/html": [
       "<div>\n",
       "<style scoped>\n",
       "    .dataframe tbody tr th:only-of-type {\n",
       "        vertical-align: middle;\n",
       "    }\n",
       "\n",
       "    .dataframe tbody tr th {\n",
       "        vertical-align: top;\n",
       "    }\n",
       "\n",
       "    .dataframe thead th {\n",
       "        text-align: right;\n",
       "    }\n",
       "</style>\n",
       "<table border=\"1\" class=\"dataframe\">\n",
       "  <thead>\n",
       "    <tr style=\"text-align: right;\">\n",
       "      <th></th>\n",
       "      <th>#peaks_0.05</th>\n",
       "      <th>#peaks_0.1</th>\n",
       "    </tr>\n",
       "  </thead>\n",
       "  <tbody>\n",
       "    <tr>\n",
       "      <th>0</th>\n",
       "      <td>24</td>\n",
       "      <td>12</td>\n",
       "    </tr>\n",
       "    <tr>\n",
       "      <th>1</th>\n",
       "      <td>15</td>\n",
       "      <td>5</td>\n",
       "    </tr>\n",
       "    <tr>\n",
       "      <th>2</th>\n",
       "      <td>16</td>\n",
       "      <td>6</td>\n",
       "    </tr>\n",
       "    <tr>\n",
       "      <th>3</th>\n",
       "      <td>19</td>\n",
       "      <td>7</td>\n",
       "    </tr>\n",
       "    <tr>\n",
       "      <th>4</th>\n",
       "      <td>9</td>\n",
       "      <td>4</td>\n",
       "    </tr>\n",
       "  </tbody>\n",
       "</table>\n",
       "</div>"
      ],
      "text/plain": [
       "   #peaks_0.05  #peaks_0.1\n",
       "0           24          12\n",
       "1           15           5\n",
       "2           16           6\n",
       "3           19           7\n",
       "4            9           4"
      ]
     },
     "execution_count": 322,
     "metadata": {},
     "output_type": "execute_result"
    }
   ],
   "source": [
    "el_features.head()"
   ]
  },
  {
   "cell_type": "code",
   "execution_count": null,
   "metadata": {},
   "outputs": [],
   "source": [
    "\n"
   ]
  },
  {
   "cell_type": "code",
   "execution_count": null,
   "metadata": {},
   "outputs": [],
   "source": []
  },
  {
   "cell_type": "code",
   "execution_count": 128,
   "metadata": {},
   "outputs": [
    {
     "data": {
      "text/plain": [
       "47"
      ]
     },
     "execution_count": 128,
     "metadata": {},
     "output_type": "execute_result"
    }
   ],
   "source": [
    "np.count_nonzero(el_peaks[0])"
   ]
  },
  {
   "cell_type": "code",
   "execution_count": 125,
   "metadata": {},
   "outputs": [
    {
     "data": {
      "text/plain": [
       "{'left_bases': array([  0,   0,   8,   8,  16,  19,  21,  21,  27,  30,  33,  35,  37,\n",
       "         41,  46,  46,  46,  53,  55,  55,  55,  72,  77,  77,  83,  83,\n",
       "         88,  90,  88,  97,  97, 106, 110, 112, 114, 117, 124, 124, 130,\n",
       "         97, 141, 143, 145, 149, 153, 155, 158], dtype=int64),\n",
       " 'left_ips': array([  1.72761896,   3.31477032,   8.80308859,   8.53872155,\n",
       "         16.61308555,  19.5       ,  22.56037971,  25.13013684,\n",
       "         27.5       ,  30.5       ,  33.5       ,  35.5       ,\n",
       "         38.60742162,  41.61950596,  46.94845314,  48.46226716,\n",
       "         50.93647466,  53.5       ,  57.12626539,  60.64069378,\n",
       "         66.55236896,  72.5       ,  77.69963976,  81.4280929 ,\n",
       "         83.92284952,  83.55791628,  88.66341173,  90.5       ,\n",
       "         92.28911449,  99.49600565, 101.32115101, 107.45525927,\n",
       "        110.5       , 112.5       , 114.5       , 117.52062669,\n",
       "        126.07835889, 128.49427459, 130.92935585, 135.36831894,\n",
       "        141.5       , 143.5       , 145.5       , 149.5       ,\n",
       "        153.5       , 155.5       , 158.52098083]),\n",
       " 'left_thresholds': array([1.46960565e-03, 3.03482485e-03, 1.18520510e-04, 4.04157743e-04,\n",
       "        3.33583515e-04, 5.81226602e-04, 3.45089279e-04, 5.06303536e-04,\n",
       "        6.75956529e-05, 2.77147325e-04, 3.97799007e-05, 2.22430159e-04,\n",
       "        5.82352087e-04, 8.82691951e-05, 3.55780252e-04, 3.90868102e-04,\n",
       "        3.82712032e-04, 1.95852636e-04, 1.15387384e-04, 7.90985857e-04,\n",
       "        4.15094259e-03, 2.30809104e-04, 5.31134822e-05, 4.83369673e-04,\n",
       "        2.48511666e-04, 6.71313314e-05, 3.79244082e-04, 1.75138430e-04,\n",
       "        1.36894817e-05, 1.93575154e-04, 7.38852179e-04, 2.03405845e-04,\n",
       "        1.18705097e-05, 4.75208028e-05, 1.41704568e-05, 7.88724693e-06,\n",
       "        1.10353915e-04, 2.11449241e-04, 8.46861945e-05, 6.75689157e-03,\n",
       "        3.32952112e-05, 7.38849817e-05, 2.77042227e-04, 9.90726674e-05,\n",
       "        2.25215427e-04, 2.47538987e-05, 5.59012384e-06]),\n",
       " 'peak_heights': array([0.00021584, 0.00021653, 0.0002182 , 0.0002202 , 0.00022032,\n",
       "        0.00025872, 0.00031724, 0.00032235, 0.00033668, 0.00033699,\n",
       "        0.00033731, 0.00034503, 0.00036005, 0.00037911, 0.00042298,\n",
       "        0.00049468, 0.00052025, 0.00053391, 0.00054839, 0.00054911,\n",
       "        0.00055074, 0.00056892, 0.00057718, 0.00069411, 0.00072655,\n",
       "        0.00074459, 0.00094885, 0.00096763, 0.00097965, 0.00103755,\n",
       "        0.0010483 , 0.00106844, 0.00108399, 0.00109447, 0.00111731,\n",
       "        0.00144495, 0.0015195 , 0.00167334, 0.00176915, 0.00204294,\n",
       "        0.00263164, 0.00444817, 0.00455996, 0.00560041, 0.00783465,\n",
       "        0.00859906, 0.01346359]),\n",
       " 'prominences': array([8.00585435e-04, 4.15910410e-03, 1.40826999e-03, 3.20431550e-03,\n",
       "        1.80850010e-03, 5.81226602e-04, 3.03416495e-04, 8.80829586e-04,\n",
       "        6.75956529e-05, 2.77147325e-04, 3.97799007e-05, 2.22430159e-04,\n",
       "        1.38239996e-03, 4.57577951e-04, 3.66787077e-05, 4.20365228e-04,\n",
       "        7.78975121e-04, 1.95852636e-04, 2.01635901e-04, 5.68412284e-04,\n",
       "        1.32459171e-02, 2.30809104e-04, 2.90723512e-04, 5.52885093e-04,\n",
       "        3.83455909e-05, 2.77297407e-04, 2.55298220e-04, 1.75138430e-04,\n",
       "        3.99048228e-04, 1.95121567e-04, 1.00313811e-03, 2.21606898e-04,\n",
       "        1.18705097e-05, 4.75208028e-05, 1.41704568e-05, 1.99077556e-04,\n",
       "        2.03413411e-04, 2.13870508e-04, 1.19651689e-05, 8.53640092e-03,\n",
       "        3.32952112e-05, 7.38849817e-05, 2.77042227e-04, 9.90726674e-05,\n",
       "        2.25215427e-04, 2.47538987e-05, 1.38809894e-04]),\n",
       " 'right_bases': array([  3,  55,  11,  55,  55,  55,  24,  37,  30,  37,  37,  37,  55,\n",
       "         46,  48,  50,  55,  55,  60,  64, 162,  97,  81,  97,  85,  97,\n",
       "         92,  92,  97, 101, 124, 124, 117, 117, 117, 124, 128, 130, 132,\n",
       "        162, 145, 145, 162, 153, 162, 158, 162], dtype=int64),\n",
       " 'right_ips': array([  2.5       ,   4.55678941,  10.5       ,  14.21034397,\n",
       "         18.77290879,  20.19651684,  23.5       ,  26.78129957,\n",
       "         28.7339815 ,  34.108811  ,  34.04347573,  36.31079847,\n",
       "         40.58124141,  44.01236334,  47.5       ,  49.5       ,\n",
       "         52.47586829,  54.35351057,  58.66589916,  62.37984111,\n",
       "         68.65973748,  73.60243522,  79.677575  ,  82.64790224,\n",
       "         84.5       ,  86.90996057,  89.62571176,  91.38673789,\n",
       "         95.31329847, 100.5       , 102.67708517, 109.90826126,\n",
       "        111.03968623, 115.45661129, 115.14944559, 120.0108541 ,\n",
       "        127.5       , 129.5       , 131.5       , 136.7160333 ,\n",
       "        142.22341382, 144.15746366, 147.66638753, 151.1309403 ,\n",
       "        154.89748771, 156.47283991, 161.02838173]),\n",
       " 'right_thresholds': array([8.00585435e-04, 3.73489869e-03, 1.40826999e-03, 1.38283650e-03,\n",
       "        1.16993113e-03, 1.47882135e-03, 3.03416495e-04, 5.63695172e-04,\n",
       "        4.60472459e-05, 6.86084294e-05, 4.57495491e-04, 3.57836636e-04,\n",
       "        1.18917884e-03, 2.23707989e-04, 3.66787077e-05, 4.20365228e-04,\n",
       "        8.18477655e-04, 2.77011003e-04, 1.51401228e-04, 1.68144815e-04,\n",
       "        1.00387787e-02, 1.91563422e-04, 2.14532347e-04, 4.26673236e-04,\n",
       "        3.83455909e-05, 1.52367815e-04, 2.04006250e-04, 2.26430400e-04,\n",
       "        7.92198581e-05, 1.95121567e-04, 7.40776897e-04, 9.39768999e-05,\n",
       "        1.49554523e-04, 1.62828777e-05, 4.74100858e-05, 9.80553944e-05,\n",
       "        2.03413411e-04, 2.13870508e-04, 1.19651689e-05, 5.96089657e-03,\n",
       "        7.45146621e-05, 2.34609632e-04, 1.53254621e-05, 4.03470253e-05,\n",
       "        1.25469922e-04, 2.61757713e-05, 6.38749877e-05]),\n",
       " 'width_heights': array([0.00520012, 0.0057551 , 0.00374403, 0.0029578 , 0.00172739,\n",
       "        0.00175233, 0.00081592, 0.00100453, 0.00091505, 0.00092987,\n",
       "        0.00095976, 0.00063337, 0.00107795, 0.00080876, 0.00067577,\n",
       "        0.00083812, 0.00072782, 0.00039675, 0.00098317, 0.00138913,\n",
       "        0.00684063, 0.0014041 , 0.00038854, 0.00045011, 0.00052922,\n",
       "        0.00043853, 0.00042146, 0.00043268, 0.00036939, 0.00045318,\n",
       "        0.0005929 , 0.00031218, 0.00031642, 0.00019656, 0.00021112,\n",
       "        0.00026051, 0.00023528, 0.00023809, 0.00020986, 0.00433086,\n",
       "        0.00032066, 0.00029974, 0.00024059, 0.00017066, 0.00020464,\n",
       "        0.00020415, 0.00018931]),\n",
       " 'widths': array([0.77238104, 1.24201909, 1.69691141, 5.67162242, 2.15982323,\n",
       "        0.69651684, 0.93962029, 1.65116272, 1.2339815 , 3.608811  ,\n",
       "        0.54347573, 0.81079847, 1.97381979, 2.39285738, 0.55154686,\n",
       "        1.03773284, 1.53939363, 0.85351057, 1.53963377, 1.73914734,\n",
       "        2.10736852, 1.10243522, 1.97793524, 1.21980934, 0.57715048,\n",
       "        3.35204429, 0.96230003, 0.88673789, 3.02418398, 1.00399435,\n",
       "        1.35593416, 2.45300199, 0.53968623, 2.95661129, 0.64944559,\n",
       "        2.4902274 , 1.42164111, 1.00572541, 0.57064415, 1.34771437,\n",
       "        0.72341382, 0.65746366, 2.16638753, 1.6309403 , 1.39748771,\n",
       "        0.97283991, 2.5074009 ])}"
      ]
     },
     "execution_count": 125,
     "metadata": {},
     "output_type": "execute_result"
    }
   ],
   "source": [
    "el_props[0]"
   ]
  },
  {
   "cell_type": "code",
   "execution_count": 129,
   "metadata": {},
   "outputs": [
    {
     "data": {
      "text/plain": [
       "0.013463587025090335"
      ]
     },
     "execution_count": 129,
     "metadata": {},
     "output_type": "execute_result"
    }
   ],
   "source": [
    "np.max(el_props[0]['peak_heights'])\n",
    "# el_props[0]['peak_heights'][-4:]\n"
   ]
  },
  {
   "cell_type": "code",
   "execution_count": 79,
   "metadata": {},
   "outputs": [
    {
     "data": {
      "text/plain": [
       "array([  4,   7,  11,  17,  20,  22,  24,  28,  30,  33,  36,  39,  42,\n",
       "        44,  47,  50,  55,  58,  60,  62,  64,  66,  68,  70,  78,  88,\n",
       "        90,  94,  96, 100, 102, 104, 106, 108, 111, 113, 118, 121, 123,\n",
       "       128, 131, 133, 137, 139, 141, 143, 145, 147, 149, 153, 156],\n",
       "      dtype=int64)"
      ]
     },
     "execution_count": 79,
     "metadata": {},
     "output_type": "execute_result"
    }
   ],
   "source": [
    "peaks"
   ]
  },
  {
   "cell_type": "code",
   "execution_count": 92,
   "metadata": {},
   "outputs": [
    {
     "data": {
      "text/plain": [
       "dict_keys(['peak_heights'])"
      ]
     },
     "execution_count": 92,
     "metadata": {},
     "output_type": "execute_result"
    }
   ],
   "source": []
  },
  {
   "cell_type": "code",
   "execution_count": 100,
   "metadata": {},
   "outputs": [
    {
     "data": {
      "image/png": "[encoded data removed]",
      "text/plain": [
       "<Figure size 432x288 with 1 Axes>"
      ]
     },
     "metadata": {},
     "output_type": "display_data"
    }
   ],
   "source": [
    "plt.plot(el_sig.iloc[:-42,78])\n",
    "plt.plot(peaks, el_sig.iloc[:-42,78][peaks], \"x\")\n",
    "plt.show()\n"
   ]
  },
  {
   "cell_type": "code",
   "execution_count": null,
   "metadata": {},
   "outputs": [],
   "source": []
  }
 ],
 "metadata": {
  "kernelspec": {
   "display_name": "Python 3",
   "language": "python",
   "name": "python3"
  },
  "language_info": {
   "codemirror_mode": {
    "name": "ipython",
    "version": 3
   },
   "file_extension": ".py",
   "mimetype": "text/x-python",
   "name": "python",
   "nbconvert_exporter": "python",
   "pygments_lexer": "ipython3",
   "version": "3.6.5"
  }
 },
 "nbformat": 4,
 "nbformat_minor": 2
}
